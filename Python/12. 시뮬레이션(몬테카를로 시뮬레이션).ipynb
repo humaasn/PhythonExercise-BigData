{
 "cells": [
  {
   "cell_type": "markdown",
   "id": "cf354a6c",
   "metadata": {},
   "source": [
    "# 동전의 앞면과 뒷면이 나올 확률이 같다는 증명 "
   ]
  },
  {
   "cell_type": "code",
   "execution_count": 1,
   "id": "169ed2ad",
   "metadata": {},
   "outputs": [],
   "source": [
    "import random"
   ]
  },
  {
   "cell_type": "code",
   "execution_count": 3,
   "id": "493a403c",
   "metadata": {},
   "outputs": [
    {
     "data": {
      "text/plain": [
       "5"
      ]
     },
     "execution_count": 3,
     "metadata": {},
     "output_type": "execute_result"
    }
   ],
   "source": [
    "random.randint(1,10)"
   ]
  },
  {
   "cell_type": "code",
   "execution_count": 5,
   "id": "0df044c0",
   "metadata": {},
   "outputs": [
    {
     "name": "stdout",
     "output_type": "stream",
     "text": [
      "앞면\n"
     ]
    }
   ],
   "source": [
    "x = random.randint(1,2)\n",
    "if x == 1:\n",
    "    result = '앞면'\n",
    "else: \n",
    "    result = '뒷면'\n",
    "print(result)"
   ]
  },
  {
   "cell_type": "code",
   "execution_count": 14,
   "id": "2b11bb56",
   "metadata": {},
   "outputs": [],
   "source": [
    "def coinF(x):\n",
    "    front = 0 \n",
    "    back = 0 \n",
    "    for i in range(1,x+1):\n",
    "        y = random.randint(1,2)\n",
    "        if y == 1:\n",
    "            result = '앞면'\n",
    "            front += 1\n",
    "        else: \n",
    "            result = '뒷면'\n",
    "            back += 1\n",
    "    print('%d번 시도시 동전의 앞면은 %d번, 동전의 뒷면은 %d번 입니다. '%(x,front,back))\n",
    "\n",
    "    "
   ]
  },
  {
   "cell_type": "code",
   "execution_count": 15,
   "id": "82332ab2",
   "metadata": {},
   "outputs": [
    {
     "name": "stdout",
     "output_type": "stream",
     "text": [
      "10번 시도시 동전의 앞면은 4번, 동전의 뒷면은 6번 입니다. \n"
     ]
    }
   ],
   "source": [
    "coinF(10)"
   ]
  },
  {
   "cell_type": "code",
   "execution_count": null,
   "id": "72126583",
   "metadata": {},
   "outputs": [],
   "source": [
    "def rock(n):\n",
    "    "
   ]
  },
  {
   "cell_type": "code",
   "execution_count": null,
   "id": "17face35",
   "metadata": {},
   "outputs": [],
   "source": []
  }
 ],
 "metadata": {
  "kernelspec": {
   "display_name": "Python 3",
   "language": "python",
   "name": "python3"
  },
  "language_info": {
   "codemirror_mode": {
    "name": "ipython",
    "version": 3
   },
   "file_extension": ".py",
   "mimetype": "text/x-python",
   "name": "python",
   "nbconvert_exporter": "python",
   "pygments_lexer": "ipython3",
   "version": "3.8.8"
  }
 },
 "nbformat": 4,
 "nbformat_minor": 5
}
