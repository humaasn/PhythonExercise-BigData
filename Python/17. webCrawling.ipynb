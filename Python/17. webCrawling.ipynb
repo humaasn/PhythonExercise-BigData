{
 "cells": [
  {
   "cell_type": "markdown",
   "id": "267c0bea",
   "metadata": {},
   "source": [
    "# Web Crawling이란?\n",
    " - Web Scraping이라고도 하며 Computer Software기술로 각종 웹 사이트들에서 원하는 정보를 추출하는 것을 의미 \n",
    " - 선행학습: Python기초, HTML, CSS, JavaScript 구조 및 Tag"
   ]
  },
  {
   "cell_type": "markdown",
   "id": "eddcfa55",
   "metadata": {},
   "source": [
    "# Web Crawling 기법 \n",
    "- HTML Page를 가져와서 HTML/css등을 Parsing하고 필요한 데이터만 추출 \n",
    "- Open API(Rest API)를 제공하는 서비스에 Open API 호출해서 받은 데이터중 필요한 데이터만 추출하는 기법 \n",
    "- web Browser를 Programming으로 조작해서 필요한 데이터만 추출하는 기법 "
   ]
  },
  {
   "cell_type": "markdown",
   "id": "28598fa2",
   "metadata": {},
   "source": [
    "# Web Crawling의 합법 여부 판단\n",
    "- Site뒤에 /robots.txt를 실행하여 허용범위 확인 "
   ]
  },
  {
   "cell_type": "code",
   "execution_count": null,
   "id": "7026159c",
   "metadata": {},
   "outputs": [],
   "source": []
  }
 ],
 "metadata": {
  "kernelspec": {
   "display_name": "Python 3 (ipykernel)",
   "language": "python",
   "name": "python3"
  },
  "language_info": {
   "codemirror_mode": {
    "name": "ipython",
    "version": 3
   },
   "file_extension": ".py",
   "mimetype": "text/x-python",
   "name": "python",
   "nbconvert_exporter": "python",
   "pygments_lexer": "ipython3",
   "version": "3.8.2"
  }
 },
 "nbformat": 4,
 "nbformat_minor": 5
}
