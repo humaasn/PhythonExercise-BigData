{
 "cells": [
  {
   "cell_type": "markdown",
   "id": "e0f4851b",
   "metadata": {},
   "source": [
    "# Dictionary : Key와 Value로 구성, {,} "
   ]
  },
  {
   "cell_type": "code",
   "execution_count": 2,
   "id": "4dab2402",
   "metadata": {},
   "outputs": [
    {
     "name": "stdout",
     "output_type": "stream",
     "text": [
      "{'name': 'petty', 'phone': '010-1111-1111', 'birth': '1231'}\n"
     ]
    }
   ],
   "source": [
    "# 생성 \n",
    "dic = {'name':'petty', 'phone':'010-1111-1111', 'birth':'1231'}"
   ]
  },
  {
   "cell_type": "code",
   "execution_count": 3,
   "id": "bf664ef6",
   "metadata": {},
   "outputs": [
    {
     "data": {
      "text/plain": [
       "'petty'"
      ]
     },
     "execution_count": 3,
     "metadata": {},
     "output_type": "execute_result"
    }
   ],
   "source": [
    "# 사용 \n",
    "dic['name']"
   ]
  },
  {
   "cell_type": "code",
   "execution_count": 7,
   "id": "d3704bc2",
   "metadata": {},
   "outputs": [
    {
     "name": "stdout",
     "output_type": "stream",
     "text": [
      "[1, 2, 3]\n",
      "1\n"
     ]
    }
   ],
   "source": [
    "# Dictionary의 value가 List인 경우 \n",
    "dic = {'a':[1,2,3]}\n",
    "print(dic['a'])\n",
    "print(dic['a'][0])"
   ]
  },
  {
   "cell_type": "code",
   "execution_count": 9,
   "id": "2f942f93",
   "metadata": {},
   "outputs": [
    {
     "data": {
      "text/plain": [
       "{'a': [1, 2, 3], 'b': 'bbb'}"
      ]
     },
     "execution_count": 9,
     "metadata": {},
     "output_type": "execute_result"
    }
   ],
   "source": [
    "# 추가\n",
    "dic['b'] = 'bbb'\n",
    "dic"
   ]
  },
  {
   "cell_type": "code",
   "execution_count": 11,
   "id": "1c9cbaea",
   "metadata": {},
   "outputs": [
    {
     "data": {
      "text/plain": [
       "{'a': [1, 2, 3], 'b': 'bbb', 'name': 'petty'}"
      ]
     },
     "execution_count": 11,
     "metadata": {},
     "output_type": "execute_result"
    }
   ],
   "source": [
    "dic['name'] = 'petty'\n",
    "dic"
   ]
  },
  {
   "cell_type": "code",
   "execution_count": 13,
   "id": "5ed348b8",
   "metadata": {},
   "outputs": [
    {
     "data": {
      "text/plain": [
       "{'a': [1, 2, 3], 'b': 'bbb', 'name': 'Berry'}"
      ]
     },
     "execution_count": 13,
     "metadata": {},
     "output_type": "execute_result"
    }
   ],
   "source": [
    "# 수정 \n",
    "dic['name'] = 'Berry'\n",
    "dic\n"
   ]
  },
  {
   "cell_type": "code",
   "execution_count": 15,
   "id": "a0e0374b",
   "metadata": {},
   "outputs": [
    {
     "ename": "KeyError",
     "evalue": "'b'",
     "output_type": "error",
     "traceback": [
      "\u001b[0;31m---------------------------------------------------------------------------\u001b[0m",
      "\u001b[0;31mKeyError\u001b[0m                                  Traceback (most recent call last)",
      "\u001b[0;32m/var/folders/5k/79k22g514cj3l_kxckb_8g080000gn/T/ipykernel_1453/1275719672.py\u001b[0m in \u001b[0;36m<module>\u001b[0;34m\u001b[0m\n\u001b[1;32m      1\u001b[0m \u001b[0;31m# 삭제\u001b[0m\u001b[0;34m\u001b[0m\u001b[0;34m\u001b[0m\u001b[0;34m\u001b[0m\u001b[0m\n\u001b[0;32m----> 2\u001b[0;31m \u001b[0;32mdel\u001b[0m \u001b[0mdic\u001b[0m\u001b[0;34m[\u001b[0m\u001b[0;34m'b'\u001b[0m\u001b[0;34m]\u001b[0m\u001b[0;34m\u001b[0m\u001b[0;34m\u001b[0m\u001b[0m\n\u001b[0m\u001b[1;32m      3\u001b[0m \u001b[0mdic\u001b[0m\u001b[0;34m\u001b[0m\u001b[0;34m\u001b[0m\u001b[0m\n",
      "\u001b[0;31mKeyError\u001b[0m: 'b'"
     ]
    }
   ],
   "source": [
    "# 삭제 \n",
    "del dic['b']"
   ]
  },
  {
   "cell_type": "code",
   "execution_count": 16,
   "id": "4913f111",
   "metadata": {},
   "outputs": [
    {
     "data": {
      "text/plain": [
       "{'a': [1, 2, 3], 'name': 'Berry'}"
      ]
     },
     "execution_count": 16,
     "metadata": {},
     "output_type": "execute_result"
    }
   ],
   "source": [
    "dic"
   ]
  },
  {
   "cell_type": "markdown",
   "id": "0a414bf5",
   "metadata": {},
   "source": [
    "# Dictionary 관련 함수 "
   ]
  },
  {
   "cell_type": "code",
   "execution_count": 23,
   "id": "d1329edb",
   "metadata": {},
   "outputs": [
    {
     "data": {
      "text/plain": [
       "dict_keys(['name', 'phone', 'birth'])"
      ]
     },
     "execution_count": 23,
     "metadata": {},
     "output_type": "execute_result"
    }
   ],
   "source": [
    "# key List 만들기 \n",
    "dic = {'name':'petty', 'phone':'010-1111-1111', 'birth':'1231'}\n",
    "dic.keys()"
   ]
  },
  {
   "cell_type": "code",
   "execution_count": 24,
   "id": "ec7080e8",
   "metadata": {},
   "outputs": [
    {
     "name": "stdout",
     "output_type": "stream",
     "text": [
      "name\n",
      "phone\n",
      "birth\n"
     ]
    }
   ],
   "source": [
    "for k in dic.keys():\n",
    "    print(k)"
   ]
  },
  {
   "cell_type": "code",
   "execution_count": 25,
   "id": "13ffeaf9",
   "metadata": {},
   "outputs": [
    {
     "data": {
      "text/plain": [
       "'name'"
      ]
     },
     "execution_count": 25,
     "metadata": {},
     "output_type": "execute_result"
    }
   ],
   "source": [
    "list(dic.keys())[0]"
   ]
  },
  {
   "cell_type": "code",
   "execution_count": 26,
   "id": "ccaebfb0",
   "metadata": {},
   "outputs": [
    {
     "data": {
      "text/plain": [
       "dict_values(['petty', '010-1111-1111', '1231'])"
      ]
     },
     "execution_count": 26,
     "metadata": {},
     "output_type": "execute_result"
    }
   ],
   "source": [
    "# Value List 만들기 \n",
    "dic.values()"
   ]
  },
  {
   "cell_type": "code",
   "execution_count": 29,
   "id": "11877c64",
   "metadata": {},
   "outputs": [
    {
     "data": {
      "text/plain": [
       "['petty', '010-1111-1111', '1231']"
      ]
     },
     "execution_count": 29,
     "metadata": {},
     "output_type": "execute_result"
    }
   ],
   "source": [
    "list(dic.values())"
   ]
  },
  {
   "cell_type": "code",
   "execution_count": 30,
   "id": "b3c49ec2",
   "metadata": {},
   "outputs": [
    {
     "data": {
      "text/plain": [
       "dict_items([('name', 'petty'), ('phone', '010-1111-1111'), ('birth', '1231')])"
      ]
     },
     "execution_count": 30,
     "metadata": {},
     "output_type": "execute_result"
    }
   ],
   "source": [
    "# key와 value 함께 얻기 \n",
    "dic.items()"
   ]
  },
  {
   "cell_type": "code",
   "execution_count": 36,
   "id": "19cf1867",
   "metadata": {},
   "outputs": [
    {
     "name": "stdout",
     "output_type": "stream",
     "text": [
      "name : petty\n",
      "phone : 010-1111-1111\n",
      "birth : 1231\n"
     ]
    }
   ],
   "source": [
    "for i in dic.items():\n",
    "    print(i[0], ':' ,i[1])"
   ]
  },
  {
   "cell_type": "code",
   "execution_count": 39,
   "id": "3968cc9a",
   "metadata": {},
   "outputs": [
    {
     "data": {
      "text/plain": [
       "{}"
      ]
     },
     "execution_count": 39,
     "metadata": {},
     "output_type": "execute_result"
    }
   ],
   "source": [
    "# key와 value 지우기 \n",
    "dic.clear()\n",
    "dic"
   ]
  },
  {
   "cell_type": "code",
   "execution_count": 41,
   "id": "e6f612e5",
   "metadata": {},
   "outputs": [
    {
     "name": "stdout",
     "output_type": "stream",
     "text": [
      "True\n",
      "False\n"
     ]
    }
   ],
   "source": [
    "# 해당 key가 Dictionary에 있는지 확인 \n",
    "dic = {'name':'petty', 'phone':'010-1111-1111', 'birth':'1231'}\n",
    "print('name' in dic)\n",
    "print('mail' in dic)"
   ]
  },
  {
   "cell_type": "code",
   "execution_count": 42,
   "id": "e1068f43",
   "metadata": {},
   "outputs": [
    {
     "data": {
      "text/plain": [
       "'petty'"
      ]
     },
     "execution_count": 42,
     "metadata": {},
     "output_type": "execute_result"
    }
   ],
   "source": [
    "dic['name']\n",
    "dic.get('name')"
   ]
  },
  {
   "cell_type": "code",
   "execution_count": 50,
   "id": "13f30f3f",
   "metadata": {},
   "outputs": [
    {
     "data": {
      "text/plain": [
       "'나의 이름은 홍길동이고 나이는 30입니다.'"
      ]
     },
     "execution_count": 50,
     "metadata": {},
     "output_type": "execute_result"
    }
   ],
   "source": [
    "# f 문자열 fomatting\n",
    "d = {'name':'홍길동', 'age':30}\n",
    "f'나의 이름은 {list(d.values())[0]}이고 나이는 {list(d.values())[1]}입니다.' "
   ]
  },
  {
   "cell_type": "code",
   "execution_count": 49,
   "id": "be40a4c1",
   "metadata": {},
   "outputs": [
    {
     "ename": "TypeError",
     "evalue": "values() takes no arguments (1 given)",
     "output_type": "error",
     "traceback": [
      "\u001b[0;31m---------------------------------------------------------------------------\u001b[0m",
      "\u001b[0;31mTypeError\u001b[0m                                 Traceback (most recent call last)",
      "\u001b[0;32m/var/folders/5k/79k22g514cj3l_kxckb_8g080000gn/T/ipykernel_1453/3481612537.py\u001b[0m in \u001b[0;36m<module>\u001b[0;34m\u001b[0m\n\u001b[0;32m----> 1\u001b[0;31m \u001b[0md\u001b[0m\u001b[0;34m.\u001b[0m\u001b[0mvalues\u001b[0m\u001b[0;34m(\u001b[0m\u001b[0;34m'name'\u001b[0m\u001b[0;34m)\u001b[0m\u001b[0;34m\u001b[0m\u001b[0;34m\u001b[0m\u001b[0m\n\u001b[0m",
      "\u001b[0;31mTypeError\u001b[0m: values() takes no arguments (1 given)"
     ]
    }
   ],
   "source": []
  },
  {
   "cell_type": "code",
   "execution_count": null,
   "id": "c1a70cbd",
   "metadata": {},
   "outputs": [],
   "source": []
  }
 ],
 "metadata": {
  "kernelspec": {
   "display_name": "Python 3 (ipykernel)",
   "language": "python",
   "name": "python3"
  },
  "language_info": {
   "codemirror_mode": {
    "name": "ipython",
    "version": 3
   },
   "file_extension": ".py",
   "mimetype": "text/x-python",
   "name": "python",
   "nbconvert_exporter": "python",
   "pygments_lexer": "ipython3",
   "version": "3.8.2"
  }
 },
 "nbformat": 4,
 "nbformat_minor": 5
}
