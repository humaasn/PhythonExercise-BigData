{
 "cells": [
  {
   "cell_type": "code",
   "execution_count": 1,
   "id": "5b941265",
   "metadata": {},
   "outputs": [
    {
     "name": "stdout",
     "output_type": "stream",
     "text": [
      "0으로 나누기는 안됩니다.\n"
     ]
    }
   ],
   "source": [
    "#Ex01 \n",
    "try: \n",
    "    4/0\n",
    "except:\n",
    "    print(\"0으로 나누기는 안됩니다.\")"
   ]
  },
  {
   "cell_type": "code",
   "execution_count": 2,
   "id": "0a59eea7",
   "metadata": {},
   "outputs": [
    {
     "name": "stdout",
     "output_type": "stream",
     "text": [
      "그런 파일은 없습니다.\n"
     ]
    }
   ],
   "source": [
    "#Ex02\n",
    "try: \n",
    "    f = open(\"./Data/test.txt\",\"r\")\n",
    "except:\n",
    "    print(\"그런 파일은 없습니다.\")\n",
    "else:\n",
    "    data = f.read()\n",
    "    f.cloase()"
   ]
  },
  {
   "cell_type": "code",
   "execution_count": null,
   "id": "26e02845",
   "metadata": {},
   "outputs": [],
   "source": []
  }
 ],
 "metadata": {
  "kernelspec": {
   "display_name": "Python 3",
   "language": "python",
   "name": "python3"
  },
  "language_info": {
   "codemirror_mode": {
    "name": "ipython",
    "version": 3
   },
   "file_extension": ".py",
   "mimetype": "text/x-python",
   "name": "python",
   "nbconvert_exporter": "python",
   "pygments_lexer": "ipython3",
   "version": "3.8.8"
  }
 },
 "nbformat": 4,
 "nbformat_minor": 5
}
