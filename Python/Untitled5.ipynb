{
 "cells": [
  {
   "cell_type": "code",
   "execution_count": null,
   "id": "868a1992",
   "metadata": {},
   "outputs": [],
   "source": [
    "# 연간 영화 불러오기 \n",
    "from bs4 import BeautifulSoup\n",
    "import urllib.request as req \n",
    "\n",
    "# HTML 가져오기 \n",
    "url = \"https://movie.daum.net/ranking/boxoffice/yearly\"\n",
    "res = req.urlopen(url)\n",
    "\n",
    "#HTML 분석하기 \n",
    "soup = BeautifulSoup(res, \"html.parser\")"
   ]
  }
 ],
 "metadata": {
  "kernelspec": {
   "display_name": "Python 3",
   "language": "python",
   "name": "python3"
  },
  "language_info": {
   "codemirror_mode": {
    "name": "ipython",
    "version": 3
   },
   "file_extension": ".py",
   "mimetype": "text/x-python",
   "name": "python",
   "nbconvert_exporter": "python",
   "pygments_lexer": "ipython3",
   "version": "3.8.8"
  }
 },
 "nbformat": 4,
 "nbformat_minor": 5
}
