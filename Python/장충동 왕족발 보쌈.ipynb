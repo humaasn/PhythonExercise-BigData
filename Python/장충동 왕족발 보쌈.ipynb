{
 "cells": [
  {
   "cell_type": "code",
   "execution_count": 16,
   "id": "bdc981cf",
   "metadata": {},
   "outputs": [],
   "source": [
    "from selenium import webdriver\n",
    "import time"
   ]
  },
  {
   "cell_type": "code",
   "execution_count": 17,
   "id": "ffe8f83b",
   "metadata": {},
   "outputs": [
    {
     "name": "stderr",
     "output_type": "stream",
     "text": [
      "<ipython-input-17-676ab1439bc2>:2: DeprecationWarning: executable_path has been deprecated, please pass in a Service object\n",
      "  driver = webdriver.Chrome('./Data/chromedriver')\n"
     ]
    }
   ],
   "source": [
    "# mac이면 sudo spctl --master-disable      을 터미널에 입력 후 실행\n",
    "driver = webdriver.Chrome('./Data/chromedriver')"
   ]
  },
  {
   "cell_type": "code",
   "execution_count": 117,
   "id": "83c3a4a5",
   "metadata": {},
   "outputs": [
    {
     "name": "stdout",
     "output_type": "stream",
     "text": [
      "서울특별시 강남구 역삼동 814-6 스타플렉스\n"
     ]
    },
    {
     "ename": "TypeError",
     "evalue": "can only concatenate str (not \"Tag\") to str",
     "output_type": "error",
     "traceback": [
      "\u001b[0;31m---------------------------------------------------------------------------\u001b[0m",
      "\u001b[0;31mTypeError\u001b[0m                                 Traceback (most recent call last)",
      "\u001b[0;32m<ipython-input-117-0a3aa76af35b>\u001b[0m in \u001b[0;36m<module>\u001b[0;34m\u001b[0m\n\u001b[1;32m     23\u001b[0m         \u001b[0;32mcontinue\u001b[0m\u001b[0;34m\u001b[0m\u001b[0;34m\u001b[0m\u001b[0m\n\u001b[1;32m     24\u001b[0m     \u001b[0;32melse\u001b[0m\u001b[0;34m:\u001b[0m\u001b[0;34m\u001b[0m\u001b[0;34m\u001b[0m\u001b[0m\n\u001b[0;32m---> 25\u001b[0;31m         \u001b[0msave_wfs\u001b[0m \u001b[0;34m+=\u001b[0m \u001b[0mwf\u001b[0m\u001b[0;34m\u001b[0m\u001b[0;34m\u001b[0m\u001b[0m\n\u001b[0m\u001b[1;32m     26\u001b[0m         \u001b[0mprint\u001b[0m\u001b[0;34m(\u001b[0m\u001b[0mwf\u001b[0m\u001b[0;34m)\u001b[0m\u001b[0;34m\u001b[0m\u001b[0;34m\u001b[0m\u001b[0m\n\u001b[1;32m     27\u001b[0m \u001b[0;31m#print(save_wfs)\u001b[0m\u001b[0;34m\u001b[0m\u001b[0;34m\u001b[0m\u001b[0;34m\u001b[0m\u001b[0m\n",
      "\u001b[0;31mTypeError\u001b[0m: can only concatenate str (not \"Tag\") to str"
     ]
    }
   ],
   "source": [
    "# 다음 많이 본 뉴스 추출 \n",
    "from bs4 import BeautifulSoup\n",
    "import urllib.request as req\n",
    "import pandas as pd\n",
    "\n",
    "remove = ['<','b','r','/','>']\n",
    "\n",
    "# HTML 가져오기 \n",
    "url = \"http://www.cgv.co.kr/theaters/?areacode=01&theaterCode=0056&date=20211224\"\n",
    "res = req.urlopen(url)\n",
    "\n",
    "#HTML 분석하기 \n",
    "soup = BeautifulSoup(res, \"html.parser\")\n",
    "\n",
    "#cgv_movie = soup.select('#contents > div.wrap-theater > div.sect-theater > div > div.box-contents > div.theater-info > strong.title')\n",
    "save_wfs = ''\n",
    "cgv_movie=soup.find_all(\"strong\")\n",
    "#print(list(cgv_movie)[1])\n",
    "wfs = list(cgv_movie)[1]\n",
    "\n",
    "for wf in wfs:\n",
    "    if wf in remove:\n",
    "        continue\n",
    "    else:\n",
    "        save_wfs += wf\n",
    "        print(wf)\n",
    "\n",
    "        \n",
    "for i in cgv_movie:\n",
    "    print(i.string)\n"
   ]
  },
  {
   "cell_type": "code",
   "execution_count": null,
   "id": "8f6f6237",
   "metadata": {},
   "outputs": [],
   "source": []
  }
 ],
 "metadata": {
  "kernelspec": {
   "display_name": "Python 3",
   "language": "python",
   "name": "python3"
  },
  "language_info": {
   "codemirror_mode": {
    "name": "ipython",
    "version": 3
   },
   "file_extension": ".py",
   "mimetype": "text/x-python",
   "name": "python",
   "nbconvert_exporter": "python",
   "pygments_lexer": "ipython3",
   "version": "3.8.8"
  }
 },
 "nbformat": 4,
 "nbformat_minor": 5
}
