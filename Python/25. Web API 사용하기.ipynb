{
 "cells": [
  {
   "cell_type": "markdown",
   "id": "484686b2",
   "metadata": {},
   "source": [
    "# OpenWeatherMap\n",
    "http://openweathermap.org   \n",
    "- 기본적으로 유료지만, 현재 날씨와 5일 까지의 날씨는 무료로 사용가능   \n",
    "\n",
    "## 개발자 등록하고 API Key 발급받기\n",
    "https://home.openweathermap.org/users/sign_up   \n",
    "- 등록후 사이트 상단의 API Key부분을 클릭하여 API Key 복사하기   \n",
    "- API Key : 6133666819e6c6428a19aea5499cf89e   // 각자의 키를 여기다 입력해두자   "
   ]
  },
  {
   "cell_type": "code",
   "execution_count": 5,
   "id": "d235d370",
   "metadata": {},
   "outputs": [],
   "source": [
    "# modul\n",
    "import requests\n",
    "import json"
   ]
  },
  {
   "cell_type": "code",
   "execution_count": 1,
   "id": "5f3290c6",
   "metadata": {},
   "outputs": [],
   "source": [
    "# API Key\n",
    "apikey = '6133666819e6c6428a19aea5499cf89e'"
   ]
  },
  {
   "cell_type": "code",
   "execution_count": 2,
   "id": "fe920268",
   "metadata": {},
   "outputs": [],
   "source": [
    "# 날씨를 확인할 도시를 지정하기\n",
    "cities = [\"Seoul,KR\",\"Tokyo,JP\",\"New York,US\",\"Beijing,CN\"]"
   ]
  },
  {
   "cell_type": "code",
   "execution_count": 3,
   "id": "e99d60ff",
   "metadata": {},
   "outputs": [],
   "source": [
    "# API 지정\n",
    "api = \"http://api.openweathermap.org/data/2.5/weather?q={city}&APPID={key}\""
   ]
  },
  {
   "cell_type": "code",
   "execution_count": 4,
   "id": "3ddd900c",
   "metadata": {},
   "outputs": [],
   "source": [
    "# 켈빈 온도를 섭시 온도로 변환\n",
    "k2c = lambda k: k - 273.15"
   ]
  },
  {
   "cell_type": "markdown",
   "id": "6d178209",
   "metadata": {},
   "source": [
    "---\n",
    "# test"
   ]
  },
  {
   "cell_type": "code",
   "execution_count": 7,
   "id": "10545797",
   "metadata": {},
   "outputs": [
    {
     "data": {
      "text/plain": [
       "'Seoul'"
      ]
     },
     "execution_count": 7,
     "metadata": {},
     "output_type": "execute_result"
    }
   ],
   "source": [
    "url = api.format(city=cities[0],key=apikey)\n",
    "r = requests.get(url)\n",
    "# 결과를 json형식으로 변환\n",
    "data = json.loads(r.text)\n",
    "data['name']"
   ]
  },
  {
   "cell_type": "markdown",
   "id": "db67b0a9",
   "metadata": {},
   "source": [
    "----"
   ]
  },
  {
   "cell_type": "code",
   "execution_count": 8,
   "id": "2bf61275",
   "metadata": {},
   "outputs": [
    {
     "data": {
      "text/plain": [
       "{'coord': {'lon': 126.9778, 'lat': 37.5683},\n",
       " 'weather': [{'id': 800,\n",
       "   'main': 'Clear',\n",
       "   'description': 'clear sky',\n",
       "   'icon': '01d'}],\n",
       " 'base': 'stations',\n",
       " 'main': {'temp': 282.77,\n",
       "  'feels_like': 280.21,\n",
       "  'temp_min': 280.84,\n",
       "  'temp_max': 284.81,\n",
       "  'pressure': 1016,\n",
       "  'humidity': 43},\n",
       " 'visibility': 10000,\n",
       " 'wind': {'speed': 5.14, 'deg': 320},\n",
       " 'clouds': {'all': 0},\n",
       " 'dt': 1640064778,\n",
       " 'sys': {'type': 1,\n",
       "  'id': 8105,\n",
       "  'country': 'KR',\n",
       "  'sunrise': 1640040187,\n",
       "  'sunset': 1640074616},\n",
       " 'timezone': 32400,\n",
       " 'id': 1835848,\n",
       " 'name': 'Seoul',\n",
       " 'cod': 200}"
      ]
     },
     "execution_count": 8,
     "metadata": {},
     "output_type": "execute_result"
    }
   ],
   "source": [
    "data"
   ]
  },
  {
   "cell_type": "code",
   "execution_count": 17,
   "id": "f7e474e9",
   "metadata": {},
   "outputs": [
    {
     "name": "stdout",
     "output_type": "stream",
     "text": [
      "+      도시 =  Seoul\n",
      "|      날씨 =  clear sky\n",
      "|  최저기온 =  7.69\n",
      "|  최고기온 =  11.66\n",
      "|      습도 =  43\n",
      "|      기압 =  1016\n",
      "|      풍향 =  320\n",
      "ㄴ     풍속 =  5.14\n",
      "                    \n",
      "+      도시 =  Tokyo\n",
      "|      날씨 =  few clouds\n",
      "|  최저기온 =  11.48\n",
      "|  최고기온 =  15.7\n",
      "|      습도 =  52\n",
      "|      기압 =  1009\n",
      "|      풍향 =  76\n",
      "ㄴ     풍속 =  0.89\n",
      "                    \n",
      "+      도시 =  New York\n",
      "|      날씨 =  clear sky\n",
      "|  최저기온 =  -4.19\n",
      "|  최고기온 =  2.77\n",
      "|      습도 =  64\n",
      "|      기압 =  1022\n",
      "|      풍향 =  37\n",
      "ㄴ     풍속 =  0.45\n",
      "                    \n",
      "+      도시 =  Beijing\n",
      "|      날씨 =  clear sky\n",
      "|  최저기온 =  5.5\n",
      "|  최고기온 =  5.94\n",
      "|      습도 =  44\n",
      "|      기압 =  1022\n",
      "|      풍향 =  162\n",
      "ㄴ     풍속 =  1.93\n",
      "                    \n"
     ]
    }
   ],
   "source": [
    "# 각 도시의 정보 추출하기\n",
    "for name in cities:\n",
    "    url = api.format(city=name,key=apikey)\n",
    "    r = requests.get(url)\n",
    "    data = json.loads(r.text)\n",
    "    # 결과 값 출력하기\n",
    "    print(\"+      도시 = \",data['name'])\n",
    "    print(\"|      날씨 = \",data['weather'][0]['description'])\n",
    "    print(\"|  최저기온 = \",round(k2c(data['main']['temp_min']),2))\n",
    "    print(\"|  최고기온 = \",round(k2c(data['main']['temp_max']),2))\n",
    "    print(\"|      습도 = \",data['main']['humidity'])\n",
    "    print(\"|      기압 = \",data['main']['pressure'])\n",
    "    print(\"|      풍향 = \",data['wind']['deg'])\n",
    "    print(\"ㄴ     풍속 = \",data['wind']['speed'])\n",
    "    print('  '* 10)"
   ]
  },
  {
   "cell_type": "markdown",
   "id": "61e1bbd8",
   "metadata": {},
   "source": [
    "# NAVER API 사용"
   ]
  },
  {
   "cell_type": "markdown",
   "id": "b468d896",
   "metadata": {},
   "source": [
    "Access Key ID : gl4vEdE2YXdW2KmHUsBr   \n",
    "Secret Key : PYevJPld6UBdKxvsV4bfxEINktq2aFShHc7XlMPL   \n",
    "////////////////////////////////////////////////////////   \n",
    "X-NCP-APIGW-API-KEY-ID : 3y8tt3hcwc   \n",
    "X-NCP-APIGW-API-KEY: wD4kbVpnYMJaJrO2R0HaAJwS1cychMhthRhOLvmx   \n",
    "https://fomaios.tistory.com/entry/iOS-네이버-API를-이용해서-주소를-위도경도로-변환하기NAVER-CLOUD-PLATFORM-GEOCODING   \n",
    "위 링크 참조   "
   ]
  },
  {
   "cell_type": "code",
   "execution_count": 19,
   "id": "a80c4ae6",
   "metadata": {},
   "outputs": [
    {
     "name": "stdout",
     "output_type": "stream",
     "text": [
      "{'status': 'OK', 'meta': {'totalCount': 1, 'page': 1, 'count': 1}, 'addresses': [{'roadAddress': '서울특별시 영등포구 국회대로 608 영등포경찰서', 'jibunAddress': '서울특별시 영등포구 당산동3가 2-11 영등포경찰서', 'englishAddress': '608, Gukhoe-daero, Yeongdeungpo-gu, Seoul, Republic of Korea', 'addressElements': [{'types': ['SIDO'], 'longName': '서울특별시', 'shortName': '서울특별시', 'code': ''}, {'types': ['SIGUGUN'], 'longName': '영등포구', 'shortName': '영등포구', 'code': ''}, {'types': ['DONGMYUN'], 'longName': '당산동3가', 'shortName': '당산동3가', 'code': ''}, {'types': ['RI'], 'longName': '', 'shortName': '', 'code': ''}, {'types': ['ROAD_NAME'], 'longName': '국회대로', 'shortName': '국회대로', 'code': ''}, {'types': ['BUILDING_NUMBER'], 'longName': '608', 'shortName': '608', 'code': ''}, {'types': ['BUILDING_NAME'], 'longName': '영등포경찰서', 'shortName': '영등포경찰서', 'code': ''}, {'types': ['LAND_NUMBER'], 'longName': '2-11', 'shortName': '2-11', 'code': ''}, {'types': ['POSTAL_CODE'], 'longName': '07258', 'shortName': '07258', 'code': ''}], 'x': '126.9009426', 'y': '37.5258476', 'distance': 0.0}], 'errorMessage': ''}\n"
     ]
    }
   ],
   "source": [
    "import urllib.request\n",
    "\n",
    "client_id = \"3y8tt3hcwc\"\n",
    "client_secret = \"wD4kbVpnYMJaJrO2R0HaAJwS1cychMhthRhOLvmx\"\n",
    "\n",
    "\n",
    "encText = urllib.parse.quote(\"서울시 영등포구 국회대로 608\")\n",
    "url = \"https://naveropenapi.apigw.ntruss.com/map-geocode/v2/geocode?query=\" + encText # json 결과\n",
    "# url = \"https://openapi.naver.com/v1/map/geocode.xml?query=\" + encText # xml 결과\n",
    "request = urllib.request.Request(url)\n",
    "request.add_header(\"X-NCP-APIGW-API-KEY-ID\",client_id)\n",
    "request.add_header(\"X-NCP-APIGW-API-KEY\",client_secret)\n",
    "response = urllib.request.urlopen(request)\n",
    "rescode = response.getcode()\n",
    "if(rescode==200):\n",
    "    response_body = response.read()\n",
    "    #print(response_body.decode('utf-8'))\n",
    "    entext = response_body.decode('utf-8')\n",
    "else:\n",
    "    print(\"Error Code:\" + rescode)\n",
    "\n",
    "import json    \n",
    "data1 = json.loads(entext)\n",
    "print(data1)"
   ]
  },
  {
   "cell_type": "code",
   "execution_count": null,
   "id": "22e35d5d",
   "metadata": {},
   "outputs": [],
   "source": []
  }
 ],
 "metadata": {
  "kernelspec": {
   "display_name": "Python 3",
   "language": "python",
   "name": "python3"
  },
  "language_info": {
   "codemirror_mode": {
    "name": "ipython",
    "version": 3
   },
   "file_extension": ".py",
   "mimetype": "text/x-python",
   "name": "python",
   "nbconvert_exporter": "python",
   "pygments_lexer": "ipython3",
   "version": "3.8.8"
  }
 },
 "nbformat": 4,
 "nbformat_minor": 5
}
