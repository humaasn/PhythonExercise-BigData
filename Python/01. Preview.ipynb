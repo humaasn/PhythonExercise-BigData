{
 "cells": [
  {
   "cell_type": "markdown",
   "id": "b596ed25",
   "metadata": {},
   "source": [
    "# Python 기초 "
   ]
  },
  {
   "cell_type": "markdown",
   "id": "31709ebc",
   "metadata": {},
   "source": [
    "## 사칙연산"
   ]
  },
  {
   "cell_type": "code",
   "execution_count": 3,
   "id": "3b4fd8b1",
   "metadata": {},
   "outputs": [
    {
     "data": {
      "text/plain": [
       "3"
      ]
     },
     "execution_count": 3,
     "metadata": {},
     "output_type": "execute_result"
    }
   ],
   "source": [
    "# 덧셈 \n",
    "1 + 2 "
   ]
  },
  {
   "cell_type": "code",
   "execution_count": 4,
   "id": "f2a8c4b2",
   "metadata": {},
   "outputs": [
    {
     "data": {
      "text/plain": [
       "2"
      ]
     },
     "execution_count": 4,
     "metadata": {},
     "output_type": "execute_result"
    }
   ],
   "source": [
    "# 곱셈 \n",
    "1 * 2"
   ]
  },
  {
   "cell_type": "code",
   "execution_count": 5,
   "id": "02161d4d",
   "metadata": {},
   "outputs": [
    {
     "data": {
      "text/plain": [
       "1"
      ]
     },
     "execution_count": 5,
     "metadata": {},
     "output_type": "execute_result"
    }
   ],
   "source": [
    "# 뺼셈 \n",
    "2 - 1 "
   ]
  },
  {
   "cell_type": "code",
   "execution_count": 6,
   "id": "c5bf2eb7",
   "metadata": {},
   "outputs": [
    {
     "data": {
      "text/plain": [
       "1.5"
      ]
     },
     "execution_count": 6,
     "metadata": {},
     "output_type": "execute_result"
    }
   ],
   "source": [
    "# 나누기 \n",
    "3 / 2"
   ]
  },
  {
   "cell_type": "code",
   "execution_count": 7,
   "id": "6d72e3d8",
   "metadata": {},
   "outputs": [
    {
     "data": {
      "text/plain": [
       "1"
      ]
     },
     "execution_count": 7,
     "metadata": {},
     "output_type": "execute_result"
    }
   ],
   "source": [
    " # 정수 나눗셈의 나머지 \n",
    "5 % 2 "
   ]
  },
  {
   "cell_type": "code",
   "execution_count": 8,
   "id": "50ab129e",
   "metadata": {},
   "outputs": [
    {
     "data": {
      "text/plain": [
       "2"
      ]
     },
     "execution_count": 8,
     "metadata": {},
     "output_type": "execute_result"
    }
   ],
   "source": [
    "# 정수 나눗셈의 몫 \n",
    "5 // 2"
   ]
  },
  {
   "cell_type": "code",
   "execution_count": null,
   "id": "f7d45479",
   "metadata": {},
   "outputs": [],
   "source": []
  },
  {
   "cell_type": "markdown",
   "id": "cb88580f",
   "metadata": {},
   "source": [
    "## 변수에 대입하여 계산 "
   ]
  },
  {
   "cell_type": "code",
   "execution_count": 9,
   "id": "24036be4",
   "metadata": {},
   "outputs": [
    {
     "name": "stdout",
     "output_type": "stream",
     "text": [
      "7\n",
      "-3\n"
     ]
    }
   ],
   "source": [
    "# 변수에 정수를 할당하여 계산\n",
    "var_1 = 2\n",
    "var_2 = 5 \n",
    "print(var_1 + var_2)\n",
    "print(var_1 - var_2)"
   ]
  },
  {
   "cell_type": "code",
   "execution_count": 10,
   "id": "7ecd92bd",
   "metadata": {},
   "outputs": [
    {
     "data": {
      "text/plain": [
       "'Python'"
      ]
     },
     "execution_count": 10,
     "metadata": {},
     "output_type": "execute_result"
    }
   ],
   "source": [
    "# 동일한 변수에 문자열을 할당하여 출력 \n",
    "var_1 = 'Python'\n",
    "var_1"
   ]
  },
  {
   "cell_type": "markdown",
   "id": "bd04cb26",
   "metadata": {},
   "source": [
    "> 변수의 자료형은 데이터형을 유추허여 자료형이 변경된다. "
   ]
  },
  {
   "cell_type": "markdown",
   "id": "c6744c6d",
   "metadata": {},
   "source": [
    "# 조건문"
   ]
  },
  {
   "cell_type": "code",
   "execution_count": 11,
   "id": "bf0a0766",
   "metadata": {},
   "outputs": [
    {
     "name": "stdout",
     "output_type": "stream",
     "text": [
      "var_1 is greater than 3\n"
     ]
    }
   ],
   "source": [
    "var_1 = 3\n",
    "\n",
    "if var_1>1:\n",
    "    print('var_1 is greater than 3')"
   ]
  },
  {
   "cell_type": "markdown",
   "id": "9dc8ccbc",
   "metadata": {},
   "source": [
    "> if문 조건문 출력 시, 띄어쓰기 중요! "
   ]
  },
  {
   "cell_type": "markdown",
   "id": "8f29851f",
   "metadata": {},
   "source": [
    "# 반복문"
   ]
  },
  {
   "cell_type": "code",
   "execution_count": 12,
   "id": "8be965e3",
   "metadata": {},
   "outputs": [
    {
     "name": "stdout",
     "output_type": "stream",
     "text": [
      "10\n",
      "20\n",
      "30\n"
     ]
    }
   ],
   "source": [
    "for i in [10,20,30]:\n",
    "    print(i)"
   ]
  },
  {
   "cell_type": "code",
   "execution_count": 13,
   "id": "dcba6eb3",
   "metadata": {},
   "outputs": [
    {
     "name": "stdout",
     "output_type": "stream",
     "text": [
      "10\n",
      "20\n",
      "30\n",
      ">>>>\n"
     ]
    }
   ],
   "source": [
    "i = 0 \n",
    "while i < 30: \n",
    "    i = i + 10\n",
    "    print(i)\n",
    "\n",
    "print(\">>>>\")"
   ]
  },
  {
   "cell_type": "markdown",
   "id": "3cc84673",
   "metadata": {},
   "source": [
    "# 함수"
   ]
  },
  {
   "cell_type": "code",
   "execution_count": 18,
   "id": "9387fac6",
   "metadata": {},
   "outputs": [],
   "source": [
    "def sumF(var01, var02):\n",
    "    return var01 + var02"
   ]
  },
  {
   "cell_type": "code",
   "execution_count": 19,
   "id": "32426a92",
   "metadata": {},
   "outputs": [
    {
     "name": "stdout",
     "output_type": "stream",
     "text": [
      "30\n"
     ]
    }
   ],
   "source": [
    "print(sumF(10,20))"
   ]
  },
  {
   "cell_type": "code",
   "execution_count": null,
   "id": "327bfe97",
   "metadata": {},
   "outputs": [],
   "source": []
  },
  {
   "cell_type": "code",
   "execution_count": null,
   "id": "7d5298e3",
   "metadata": {},
   "outputs": [],
   "source": []
  }
 ],
 "metadata": {
  "kernelspec": {
   "display_name": "Python 3 (ipykernel)",
   "language": "python",
   "name": "python3"
  },
  "language_info": {
   "codemirror_mode": {
    "name": "ipython",
    "version": 3
   },
   "file_extension": ".py",
   "mimetype": "text/x-python",
   "name": "python",
   "nbconvert_exporter": "python",
   "pygments_lexer": "ipython3",
   "version": "3.8.2"
  }
 },
 "nbformat": 4,
 "nbformat_minor": 5
}
