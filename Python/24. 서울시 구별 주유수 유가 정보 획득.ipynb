{
 "cells": [
  {
   "cell_type": "markdown",
   "id": "d66980cf",
   "metadata": {},
   "source": [
    "# 크롬 드라이버 필요\n",
    "1. 크롬의 버전 확인   \n",
    "2. chromedriver 검색 후 ChromeDriver - WebDriver for Chrome - Downloads 라는 사이트 들어가서 버전에 맞는 드라이버 설치   \n",
    "3. 설치된 파일을 ./Data 에 넣어둔다   "
   ]
  },
  {
   "cell_type": "code",
   "execution_count": 1,
   "id": "311a5407",
   "metadata": {
    "scrolled": true
   },
   "outputs": [
    {
     "name": "stdout",
     "output_type": "stream",
     "text": [
      "Collecting selenium\n",
      "  Downloading selenium-4.1.0-py3-none-any.whl (958 kB)\n",
      "\u001b[K     |████████████████████████████████| 958 kB 8.9 MB/s eta 0:00:01\n",
      "\u001b[?25hCollecting trio~=0.17\n",
      "  Downloading trio-0.19.0-py3-none-any.whl (356 kB)\n",
      "\u001b[K     |████████████████████████████████| 356 kB 18.8 MB/s eta 0:00:01\n",
      "\u001b[?25hRequirement already satisfied: urllib3[secure]~=1.26 in /Users/jungjooyoung/opt/anaconda3/lib/python3.8/site-packages (from selenium) (1.26.4)\n",
      "Collecting trio-websocket~=0.9\n",
      "  Downloading trio_websocket-0.9.2-py3-none-any.whl (16 kB)\n",
      "Collecting outcome\n",
      "  Downloading outcome-1.1.0-py2.py3-none-any.whl (9.7 kB)\n",
      "Requirement already satisfied: attrs>=19.2.0 in /Users/jungjooyoung/opt/anaconda3/lib/python3.8/site-packages (from trio~=0.17->selenium) (20.3.0)\n",
      "Requirement already satisfied: idna in /Users/jungjooyoung/opt/anaconda3/lib/python3.8/site-packages (from trio~=0.17->selenium) (2.10)\n",
      "Requirement already satisfied: sniffio in /Users/jungjooyoung/opt/anaconda3/lib/python3.8/site-packages (from trio~=0.17->selenium) (1.2.0)\n",
      "Requirement already satisfied: sortedcontainers in /Users/jungjooyoung/opt/anaconda3/lib/python3.8/site-packages (from trio~=0.17->selenium) (2.3.0)\n",
      "Requirement already satisfied: async-generator>=1.9 in /Users/jungjooyoung/opt/anaconda3/lib/python3.8/site-packages (from trio~=0.17->selenium) (1.10)\n",
      "Collecting wsproto>=0.14\n",
      "  Downloading wsproto-1.0.0-py3-none-any.whl (24 kB)\n",
      "Requirement already satisfied: pyOpenSSL>=0.14 in /Users/jungjooyoung/opt/anaconda3/lib/python3.8/site-packages (from urllib3[secure]~=1.26->selenium) (20.0.1)\n",
      "Requirement already satisfied: certifi in /Users/jungjooyoung/opt/anaconda3/lib/python3.8/site-packages (from urllib3[secure]~=1.26->selenium) (2020.12.5)\n",
      "Requirement already satisfied: cryptography>=1.3.4 in /Users/jungjooyoung/opt/anaconda3/lib/python3.8/site-packages (from urllib3[secure]~=1.26->selenium) (3.4.7)\n",
      "Requirement already satisfied: cffi>=1.12 in /Users/jungjooyoung/opt/anaconda3/lib/python3.8/site-packages (from cryptography>=1.3.4->urllib3[secure]~=1.26->selenium) (1.14.5)\n",
      "Requirement already satisfied: pycparser in /Users/jungjooyoung/opt/anaconda3/lib/python3.8/site-packages (from cffi>=1.12->cryptography>=1.3.4->urllib3[secure]~=1.26->selenium) (2.20)\n",
      "Requirement already satisfied: six>=1.5.2 in /Users/jungjooyoung/opt/anaconda3/lib/python3.8/site-packages (from pyOpenSSL>=0.14->urllib3[secure]~=1.26->selenium) (1.15.0)\n",
      "Collecting h11<1,>=0.9.0\n",
      "  Downloading h11-0.12.0-py3-none-any.whl (54 kB)\n",
      "\u001b[K     |████████████████████████████████| 54 kB 13.8 MB/s eta 0:00:01\n",
      "\u001b[?25hInstalling collected packages: outcome, h11, wsproto, trio, trio-websocket, selenium\n",
      "Successfully installed h11-0.12.0 outcome-1.1.0 selenium-4.1.0 trio-0.19.0 trio-websocket-0.9.2 wsproto-1.0.0\n"
     ]
    }
   ],
   "source": [
    "#!pip install selenium"
   ]
  },
  {
   "cell_type": "code",
   "execution_count": 2,
   "id": "29d01e52",
   "metadata": {},
   "outputs": [],
   "source": [
    "from selenium import webdriver"
   ]
  },
  {
   "cell_type": "code",
   "execution_count": 3,
   "id": "11da022f",
   "metadata": {},
   "outputs": [],
   "source": [
    "from selenium.webdriver.common.by import By"
   ]
  },
  {
   "cell_type": "code",
   "execution_count": 9,
   "id": "d25d9bb3",
   "metadata": {},
   "outputs": [
    {
     "name": "stderr",
     "output_type": "stream",
     "text": [
      "<ipython-input-9-676ab1439bc2>:2: DeprecationWarning: executable_path has been deprecated, please pass in a Service object\n",
      "  driver = webdriver.Chrome('./Data/chromedriver')\n"
     ]
    }
   ],
   "source": [
    "# mac이면 sudo spctl --master-disable      을 터미널에 입력 후 실행\n",
    "driver = webdriver.Chrome('./Data/chromedriver')"
   ]
  },
  {
   "cell_type": "markdown",
   "id": "a3197dad",
   "metadata": {},
   "source": [
    "http://www.opinet.co.kr/searRgSelect.do"
   ]
  },
  {
   "cell_type": "code",
   "execution_count": 11,
   "id": "31e849c5",
   "metadata": {},
   "outputs": [],
   "source": [
    "# 드라이버를 해당 주소로 이동 > 여기 들가려면 2번해야함\n",
    "driver.get('http://www.opinet.co.kr/searRgSelect.do')"
   ]
  },
  {
   "cell_type": "code",
   "execution_count": 12,
   "id": "0357b7f0",
   "metadata": {},
   "outputs": [
    {
     "data": {
      "text/plain": [
       "True"
      ]
     },
     "execution_count": 12,
     "metadata": {},
     "output_type": "execute_result"
    }
   ],
   "source": [
    "# 현재 화면 capture하기\n",
    "driver.save_screenshot('./Data/001.png')"
   ]
  },
  {
   "cell_type": "markdown",
   "id": "86f76bc7",
   "metadata": {},
   "source": [
    "# 서울시 유가 정보 획들을 위한 테스트"
   ]
  },
  {
   "cell_type": "code",
   "execution_count": 15,
   "id": "3a5ba6fe",
   "metadata": {},
   "outputs": [
    {
     "name": "stderr",
     "output_type": "stream",
     "text": [
      "<ipython-input-15-84d9429424f5>:3: DeprecationWarning: find_element_by_* commands are deprecated. Please use find_element() instead\n",
      "  gu_list_raw = driver.find_element_by_xpath('//*[@id=\"SIGUNGU_NM0\"]')\n",
      "/Users/jungjooyoung/opt/anaconda3/lib/python3.8/site-packages/selenium/webdriver/remote/webelement.py:359: UserWarning: find_elements_by_* commands are deprecated. Please use find_elements() instead\n",
      "  warnings.warn(\"find_elements_by_* commands are deprecated. Please use find_elements() instead\")\n"
     ]
    },
    {
     "data": {
      "text/plain": [
       "['강남구',\n",
       " '강동구',\n",
       " '강북구',\n",
       " '강서구',\n",
       " '관악구',\n",
       " '광진구',\n",
       " '구로구',\n",
       " '금천구',\n",
       " '노원구',\n",
       " '도봉구',\n",
       " '동대문구',\n",
       " '동작구',\n",
       " '마포구',\n",
       " '서대문구',\n",
       " '서초구',\n",
       " '성동구',\n",
       " '성북구',\n",
       " '송파구',\n",
       " '양천구',\n",
       " '영등포구',\n",
       " '용산구',\n",
       " '은평구',\n",
       " '종로구',\n",
       " '중구',\n",
       " '중랑구']"
      ]
     },
     "execution_count": 15,
     "metadata": {},
     "output_type": "execute_result"
    }
   ],
   "source": [
    "# 자치구명 정보 가져오기\n",
    "# //*[@id=\"SIGUNGU_NM0\"]   -xpath\n",
    "gu_list_raw = driver.find_element_by_xpath('//*[@id=\"SIGUNGU_NM0\"]')\n",
    "#print(gu_list_raw)\n",
    "gu_list = gu_list_raw.find_elements_by_tag_name('option')\n",
    "#print(gu_list)\n",
    "gu_names =[option.get_attribute('value') for option in gu_list]\n",
    "gu_names.remove('')\n",
    "gu_names"
   ]
  },
  {
   "cell_type": "code",
   "execution_count": null,
   "id": "3baeba62",
   "metadata": {},
   "outputs": [],
   "source": [
    "# 조회버튼 클릭의 xpath   //*[@id=\"searRgSelect\"]/span"
   ]
  },
  {
   "cell_type": "code",
   "execution_count": 33,
   "id": "26353597",
   "metadata": {},
   "outputs": [
    {
     "name": "stderr",
     "output_type": "stream",
     "text": [
      "<ipython-input-33-153bbca5cb57>:2: DeprecationWarning: find_element_by_* commands are deprecated. Please use find_element() instead\n",
      "  element_sel_gu = driver.find_element_by_xpath(xpath).click() # 클릭하는녀석\n"
     ]
    }
   ],
   "source": [
    "xpath = '//*[@id=\"searRgSelect\"]/span'\n",
    "element_sel_gu = driver.find_element_by_xpath(xpath).click() # 클릭하는녀석"
   ]
  },
  {
   "cell_type": "markdown",
   "id": "ef5c5935",
   "metadata": {},
   "source": [
    "## 자치구명 선택과 조회버튼 클릭"
   ]
  },
  {
   "cell_type": "code",
   "execution_count": 35,
   "id": "e3bfdbff",
   "metadata": {},
   "outputs": [
    {
     "name": "stderr",
     "output_type": "stream",
     "text": [
      "<ipython-input-35-57da65af4a52>:1: DeprecationWarning: find_element_by_* commands are deprecated. Please use find_element() instead\n",
      "  element = driver.find_element_by_id('SIGUNGU_NM0')\n"
     ]
    }
   ],
   "source": [
    "element = driver.find_element_by_id('SIGUNGU_NM0')\n",
    "element.send_keys(gu_names[0])"
   ]
  },
  {
   "cell_type": "code",
   "execution_count": 36,
   "id": "2b11a5de",
   "metadata": {},
   "outputs": [
    {
     "name": "stderr",
     "output_type": "stream",
     "text": [
      "<ipython-input-36-153bbca5cb57>:2: DeprecationWarning: find_element_by_* commands are deprecated. Please use find_element() instead\n",
      "  element_sel_gu = driver.find_element_by_xpath(xpath).click() # 클릭하는녀석\n"
     ]
    }
   ],
   "source": [
    "xpath = '//*[@id=\"searRgSelect\"]/span'\n",
    "element_sel_gu = driver.find_element_by_xpath(xpath).click() # 클릭하는녀석"
   ]
  },
  {
   "cell_type": "code",
   "execution_count": 37,
   "id": "0acef8cf",
   "metadata": {},
   "outputs": [
    {
     "name": "stderr",
     "output_type": "stream",
     "text": [
      "<ipython-input-37-550b61c8c142>:3: DeprecationWarning: find_element_by_* commands are deprecated. Please use find_element() instead\n",
      "  element_get_excel = driver.find_element_by_xpath(xpath).click()\n"
     ]
    }
   ],
   "source": [
    "# 엑셀 저장 버튼 클릭\n",
    "xpath = '//*[@id=\"glopopd_excel\"]/span'\n",
    "element_get_excel = driver.find_element_by_xpath(xpath).click()"
   ]
  },
  {
   "cell_type": "markdown",
   "id": "f0abee30",
   "metadata": {},
   "source": [
    "# 데이터 수집"
   ]
  },
  {
   "cell_type": "code",
   "execution_count": 16,
   "id": "e07a287a",
   "metadata": {},
   "outputs": [],
   "source": [
    "import time"
   ]
  },
  {
   "cell_type": "code",
   "execution_count": 17,
   "id": "33315846",
   "metadata": {},
   "outputs": [
    {
     "name": "stderr",
     "output_type": "stream",
     "text": [
      "<ipython-input-17-c0d0a3206507>:2: DeprecationWarning: find_element_by_* commands are deprecated. Please use find_element() instead\n",
      "  element = driver.find_element_by_id('SIGUNGU_NM0')\n",
      "<ipython-input-17-c0d0a3206507>:8: DeprecationWarning: find_element_by_* commands are deprecated. Please use find_element() instead\n",
      "  element_sel_gu = driver.find_element_by_xpath(xpath).click() # 클릭하는녀석\n",
      "<ipython-input-17-c0d0a3206507>:13: DeprecationWarning: find_element_by_* commands are deprecated. Please use find_element() instead\n",
      "  element_get_excel = driver.find_element_by_xpath(xpath).click()\n"
     ]
    }
   ],
   "source": [
    "for gu in gu_names:\n",
    "    element = driver.find_element_by_id('SIGUNGU_NM0')\n",
    "    element.send_keys(gu)\n",
    "    \n",
    "    time.sleep(2)\n",
    "    \n",
    "    xpath = '//*[@id=\"searRgSelect\"]/span'\n",
    "    element_sel_gu = driver.find_element_by_xpath(xpath).click() # 클릭하는녀석 \n",
    "    \n",
    "    time.sleep(1)\n",
    "    # 엑셀 저장 버튼 클릭\n",
    "    xpath = '//*[@id=\"glopopd_excel\"]/span'\n",
    "    element_get_excel = driver.find_element_by_xpath(xpath).click()\n",
    "    \n",
    "    time.sleep(1)"
   ]
  },
  {
   "cell_type": "code",
   "execution_count": null,
   "id": "ca5bc54c",
   "metadata": {},
   "outputs": [],
   "source": []
  }
 ],
 "metadata": {
  "kernelspec": {
   "display_name": "Python 3 (ipykernel)",
   "language": "python",
   "name": "python3"
  },
  "language_info": {
   "codemirror_mode": {
    "name": "ipython",
    "version": 3
   },
   "file_extension": ".py",
   "mimetype": "text/x-python",
   "name": "python",
   "nbconvert_exporter": "python",
   "pygments_lexer": "ipython3",
   "version": "3.8.2"
  }
 },
 "nbformat": 4,
 "nbformat_minor": 5
}
