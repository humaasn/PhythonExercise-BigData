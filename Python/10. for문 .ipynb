{
 "cells": [
  {
   "cell_type": "markdown",
   "id": "10ef960b",
   "metadata": {},
   "source": [
    "# range 함수 \n",
    ": range(시작숫자, 끝숫자, 증가값) -> 시작 숫자부터 끝 숫자 전까지 범위를 출력 "
   ]
  },
  {
   "cell_type": "code",
   "execution_count": 1,
   "id": "4dafcbe1",
   "metadata": {},
   "outputs": [
    {
     "data": {
      "text/plain": [
       "[1, 2, 3, 4, 5, 6, 7, 8, 9, 10]"
      ]
     },
     "execution_count": 1,
     "metadata": {},
     "output_type": "execute_result"
    }
   ],
   "source": [
    "var = range(1,11)\n",
    "list(var)"
   ]
  },
  {
   "cell_type": "code",
   "execution_count": 3,
   "id": "bbd31a41",
   "metadata": {},
   "outputs": [
    {
     "data": {
      "text/plain": [
       "[0, 2, 4, 6, 8, 10]"
      ]
     },
     "execution_count": 3,
     "metadata": {},
     "output_type": "execute_result"
    }
   ],
   "source": [
    "# 0~10까지의 짝수\n",
    "list(range(0,11,2))"
   ]
  },
  {
   "cell_type": "code",
   "execution_count": 5,
   "id": "81061af6",
   "metadata": {},
   "outputs": [
    {
     "data": {
      "text/plain": [
       "[10, 8, 6, 4, 2]"
      ]
     },
     "execution_count": 5,
     "metadata": {},
     "output_type": "execute_result"
    }
   ],
   "source": [
    "list(range(10,1,-2))"
   ]
  },
  {
   "cell_type": "markdown",
   "id": "81d97f92",
   "metadata": {},
   "source": [
    "# for문 \n",
    ": for in 리스트, 튜플, 문자열 / range(,,)"
   ]
  },
  {
   "cell_type": "code",
   "execution_count": 6,
   "id": "44ed13f0",
   "metadata": {},
   "outputs": [
    {
     "name": "stdout",
     "output_type": "stream",
     "text": [
      "1\n",
      "2\n",
      "3\n",
      "4\n",
      "5\n",
      "6\n",
      "7\n",
      "8\n",
      "9\n",
      "10\n"
     ]
    }
   ],
   "source": [
    "for i in range(1,11):\n",
    "    print(i)"
   ]
  },
  {
   "cell_type": "code",
   "execution_count": 7,
   "id": "b6240ae0",
   "metadata": {},
   "outputs": [
    {
     "name": "stdout",
     "output_type": "stream",
     "text": [
      "0\n",
      "1\n",
      "2\n",
      "3\n",
      "4\n"
     ]
    }
   ],
   "source": [
    "for i in range(5):\n",
    "    print(i)"
   ]
  },
  {
   "cell_type": "code",
   "execution_count": 8,
   "id": "7316076d",
   "metadata": {},
   "outputs": [],
   "source": [
    "# 1에 10까지의 제곱근은 출력하기 \n",
    "import math"
   ]
  },
  {
   "cell_type": "code",
   "execution_count": 11,
   "id": "46346bb2",
   "metadata": {},
   "outputs": [
    {
     "name": "stdout",
     "output_type": "stream",
     "text": [
      "1.0\n",
      "1.4142135623730951\n",
      "1.7320508075688772\n",
      "2.0\n",
      "2.23606797749979\n",
      "2.449489742783178\n",
      "2.6457513110645907\n",
      "2.8284271247461903\n",
      "3.0\n",
      "3.1622776601683795\n"
     ]
    }
   ],
   "source": [
    "for i in range(1,11):\n",
    "    print(math.sqrt(i))"
   ]
  },
  {
   "cell_type": "code",
   "execution_count": 14,
   "id": "1985a895",
   "metadata": {},
   "outputs": [
    {
     "name": "stdout",
     "output_type": "stream",
     "text": [
      "-500\n"
     ]
    }
   ],
   "source": [
    "total_1 = 0\n",
    "total_2 = 0\n",
    "for i in range(1,1000):\n",
    "    if(i % 2 == 0):\n",
    "        total_1 += i\n",
    "    else:\n",
    "        total_2 += i\n",
    "print(total_1 - total_2)"
   ]
  },
  {
   "cell_type": "code",
   "execution_count": 15,
   "id": "e7cf4ff8",
   "metadata": {},
   "outputs": [
    {
     "name": "stdout",
     "output_type": "stream",
     "text": [
      "2*3\n",
      "2 3"
     ]
    }
   ],
   "source": [
    "print(2, end=\"*\")\n",
    "print(3)\n",
    "print(2,3,end=\"\")"
   ]
  },
  {
   "cell_type": "code",
   "execution_count": 29,
   "id": "6815ffef",
   "metadata": {},
   "outputs": [
    {
     "name": "stdout",
     "output_type": "stream",
     "text": [
      "\n",
      "\n",
      "2 4 6 8 10 12 14 16 18 \n",
      "\n",
      "3 6 9 12 15 18 21 24 27 \n",
      "\n",
      "4 8 12 16 20 24 28 32 36 \n",
      "\n",
      "5 10 15 20 25 30 35 40 45 \n",
      "\n",
      "6 12 18 24 30 36 42 48 54 \n",
      "\n",
      "7 14 21 28 35 42 49 56 63 \n",
      "\n",
      "8 16 24 32 40 48 56 64 72 \n",
      "\n",
      "9 18 27 36 45 54 63 72 81 "
     ]
    }
   ],
   "source": [
    "for i in range(1,9):\n",
    "    print('\\n')\n",
    "    i += 1\n",
    "    for j in range(1,10):\n",
    "        print(i*j, end=\" \")\n",
    "        j += 1"
   ]
  },
  {
   "cell_type": "markdown",
   "id": "7ac3ab22",
   "metadata": {},
   "source": [
    "# for문에 Tuple 사용하기"
   ]
  },
  {
   "cell_type": "code",
   "execution_count": 30,
   "id": "5e0d7071",
   "metadata": {},
   "outputs": [
    {
     "name": "stdout",
     "output_type": "stream",
     "text": [
      "1 : 2\n",
      "3 : 4\n",
      "5 : 6\n"
     ]
    }
   ],
   "source": [
    "# list에 Tuple을 사용한 경우\n",
    "var = [(1,2),(3,4),(5,6)]\n",
    "for first, last in var: \n",
    "    print(first,\":\",last)"
   ]
  },
  {
   "cell_type": "code",
   "execution_count": 48,
   "id": "bfbd8046",
   "metadata": {},
   "outputs": [
    {
     "name": "stdout",
     "output_type": "stream",
     "text": [
      "학급의 평균 점수는 61.400000 입니다.\n",
      "1의 학생은 점수가 90이므로 합격입니다.\n",
      "2의 학생은 점수가 25이므로 불합격입니다.\n",
      "3의 학생은 점수가 67이므로 합격입니다.\n",
      "4의 학생은 점수가 45이므로 불합격입니다.\n",
      "5의 학생은 점수가 80이므로 합격입니다.\n"
     ]
    }
   ],
   "source": [
    "scores = [90,25,67,45,80]\n",
    "average = 0 \n",
    "result = \"\"\n",
    "average = np.average(scores)\n",
    "print('학급의 평균 점수는 %f 입니다.'%average)\n",
    "\n",
    "for i in range(0,5):\n",
    "\n",
    "    if(scores[i]<average):\n",
    "        result = '불합격'\n",
    "        print('%d의 학생은 점수가 %d이므로 %s입니다.'%(i+1,scores[i], result))\n",
    "    else: \n",
    "        result = '합격'\n",
    "        print('%d의 학생은 점수가 %d이므로 %s입니다.'%(i+1,scores[i], result))        "
   ]
  },
  {
   "cell_type": "code",
   "execution_count": 40,
   "id": "d27e7838",
   "metadata": {},
   "outputs": [
    {
     "data": {
      "text/plain": [
       "61.4"
      ]
     },
     "execution_count": 40,
     "metadata": {},
     "output_type": "execute_result"
    }
   ],
   "source": [
    "np.average(scores)"
   ]
  },
  {
   "cell_type": "markdown",
   "id": "8589d276",
   "metadata": {},
   "source": [
    "# 파이썬의 listed for문 "
   ]
  },
  {
   "cell_type": "code",
   "execution_count": 49,
   "id": "3999df7a",
   "metadata": {},
   "outputs": [
    {
     "data": {
      "text/plain": [
       "[5, 10, 15, 20]"
      ]
     },
     "execution_count": 49,
     "metadata": {},
     "output_type": "execute_result"
    }
   ],
   "source": [
    "var01 = [1,2,3,4]\n",
    "var02 = [i*5 for i in var01]\n",
    "var02"
   ]
  },
  {
   "cell_type": "code",
   "execution_count": 51,
   "id": "44776abe",
   "metadata": {},
   "outputs": [
    {
     "data": {
      "text/plain": [
       "[10, 20]"
      ]
     },
     "execution_count": 51,
     "metadata": {},
     "output_type": "execute_result"
    }
   ],
   "source": [
    "var02 = [i*5 for i in var01 if i%2 == 0 ]\n",
    "var02"
   ]
  },
  {
   "cell_type": "code",
   "execution_count": 74,
   "id": "29ac54ef",
   "metadata": {},
   "outputs": [
    {
     "ename": "TypeError",
     "evalue": "must be real number, not list",
     "output_type": "error",
     "traceback": [
      "\u001b[0;31m---------------------------------------------------------------------------\u001b[0m",
      "\u001b[0;31mTypeError\u001b[0m                                 Traceback (most recent call last)",
      "\u001b[0;32m<ipython-input-74-9b25181f64e5>\u001b[0m in \u001b[0;36m<module>\u001b[0;34m\u001b[0m\n\u001b[1;32m      2\u001b[0m \u001b[0;34m\u001b[0m\u001b[0m\n\u001b[1;32m      3\u001b[0m \u001b[0mvar02\u001b[0m \u001b[0;34m=\u001b[0m \u001b[0;34m[\u001b[0m\u001b[0mi\u001b[0m \u001b[0;32mfor\u001b[0m \u001b[0mi\u001b[0m \u001b[0;32min\u001b[0m \u001b[0mscores\u001b[0m \u001b[0;32mif\u001b[0m \u001b[0mi\u001b[0m \u001b[0;34m>=\u001b[0m \u001b[0;36m60\u001b[0m\u001b[0;34m]\u001b[0m\u001b[0;34m\u001b[0m\u001b[0;34m\u001b[0m\u001b[0m\n\u001b[0;32m----> 4\u001b[0;31m \u001b[0mprint\u001b[0m\u001b[0;34m(\u001b[0m\u001b[0;34m\"합격한 학생들의 평균 점수는 %.2f입니다.\"\u001b[0m\u001b[0;34m%\u001b[0m\u001b[0mvar02\u001b[0m\u001b[0;34m)\u001b[0m\u001b[0;34m\u001b[0m\u001b[0;34m\u001b[0m\u001b[0m\n\u001b[0m\u001b[1;32m      5\u001b[0m \u001b[0mprint\u001b[0m\u001b[0;34m(\u001b[0m\u001b[0msum\u001b[0m\u001b[0;34m)\u001b[0m\u001b[0;34m\u001b[0m\u001b[0;34m\u001b[0m\u001b[0m\n",
      "\u001b[0;31mTypeError\u001b[0m: must be real number, not list"
     ]
    }
   ],
   "source": [
    "scores = [90,25,67,45,80]\n",
    "var02 = [i for i in scores if i >= 60]\n",
    "print(\"합격한 학생들의 평균 점수는 %.2f입니다.\"%var02)\n"
   ]
  },
  {
   "cell_type": "code",
   "execution_count": 65,
   "id": "b1af70bd",
   "metadata": {},
   "outputs": [
    {
     "name": "stdout",
     "output_type": "stream",
     "text": [
      "90\n",
      "25\n",
      "67\n",
      "45\n",
      "80\n"
     ]
    }
   ],
   "source": [
    "for i in scores:\n",
    "    print(i)"
   ]
  },
  {
   "cell_type": "code",
   "execution_count": null,
   "id": "76019e9a",
   "metadata": {},
   "outputs": [],
   "source": []
  }
 ],
 "metadata": {
  "kernelspec": {
   "display_name": "Python 3",
   "language": "python",
   "name": "python3"
  },
  "language_info": {
   "codemirror_mode": {
    "name": "ipython",
    "version": 3
   },
   "file_extension": ".py",
   "mimetype": "text/x-python",
   "name": "python",
   "nbconvert_exporter": "python",
   "pygments_lexer": "ipython3",
   "version": "3.8.8"
  }
 },
 "nbformat": 4,
 "nbformat_minor": 5
}
