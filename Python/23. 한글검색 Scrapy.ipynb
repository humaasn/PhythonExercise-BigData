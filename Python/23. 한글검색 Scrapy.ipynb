{
 "cells": [
  {
   "cell_type": "markdown",
   "id": "8fcf4e22",
   "metadata": {},
   "source": [
    "https://ko.wikisource.org/wiki/저자:윤동주"
   ]
  },
  {
   "cell_type": "code",
   "execution_count": 4,
   "id": "5131d6f5",
   "metadata": {},
   "outputs": [],
   "source": [
    "from urllib import parse\n",
    "from bs4 import BeautifulSoup\n",
    "from urllib.request import urlopen\n",
    "import pandas as pd\n",
    "import numpy as np # Genre가 Error로 발생한 부분을 NaN으로 처리\n",
    "import time"
   ]
  },
  {
   "cell_type": "code",
   "execution_count": 2,
   "id": "9faad086",
   "metadata": {},
   "outputs": [
    {
     "name": "stdout",
     "output_type": "stream",
     "text": [
      "https%3A//ko.wikisource.org/wiki/%EC%A0%80%EC%9E%90%3A%EC%9C%A4%EB%8F%99%EC%A3%BC\n"
     ]
    }
   ],
   "source": [
    "url = \"https://ko.wikisource.org/wiki/저자:윤동주\"\n",
    "url = parse.quote(url)\n",
    "print(url)"
   ]
  },
  {
   "cell_type": "code",
   "execution_count": 3,
   "id": "364dc846",
   "metadata": {},
   "outputs": [
    {
     "name": "stdout",
     "output_type": "stream",
     "text": [
      "https://ko.wikisource.org/wiki/%EC%A0%80%EC%9E%90:%EC%9C%A4%EB%8F%99%EC%A3%BC\n"
     ]
    }
   ],
   "source": [
    "auth = \"저자\"\n",
    "name = \"윤동주\"\n",
    "url = \"https://ko.wikisource.org/wiki/\"\n",
    "url = url + parse.quote(auth) + \":\" + parse.quote(name)\n",
    "print(url)"
   ]
  },
  {
   "cell_type": "code",
   "execution_count": 5,
   "id": "1e9672a8",
   "metadata": {},
   "outputs": [],
   "source": [
    "#mw-content-text > div.mw-parser-output > ul:nth-child(6) > li > b > a"
   ]
  },
  {
   "cell_type": "code",
   "execution_count": 7,
   "id": "d7ecad48",
   "metadata": {},
   "outputs": [],
   "source": [
    "page = urlopen(url)\n",
    "soup = BeautifulSoup(page, 'html.parser')"
   ]
  },
  {
   "cell_type": "code",
   "execution_count": 9,
   "id": "1d656ea7",
   "metadata": {
    "scrolled": true
   },
   "outputs": [
    {
     "data": {
      "text/plain": [
       "[<a href=\"/wiki/%ED%95%98%EB%8A%98%EA%B3%BC_%EB%B0%94%EB%9E%8C%EA%B3%BC_%EB%B3%84%EA%B3%BC_%EC%8B%9C\" title=\"하늘과 바람과 별과 시\">하늘과 바람과 별과 시</a>,\n",
       " <a href=\"/wiki/%EC%89%BD%EA%B2%8C_%EC%94%8C%EC%96%B4%EC%A7%84_%EC%8B%9C\" title=\"쉽게 씌어진 시\">쉽게 씌어진 시</a>]"
      ]
     },
     "execution_count": 9,
     "metadata": {},
     "output_type": "execute_result"
    }
   ],
   "source": [
    "soup.select(\"#mw-content-text > div.mw-parser-output > ul > li > b > a\")"
   ]
  },
  {
   "cell_type": "code",
   "execution_count": 10,
   "id": "5a264696",
   "metadata": {},
   "outputs": [],
   "source": [
    "#mw-content-text > div.mw-parser-output > ul:nth-child(6) > li > ul > li:nth-child(7) > a"
   ]
  },
  {
   "cell_type": "code",
   "execution_count": 59,
   "id": "b8b6c899",
   "metadata": {
    "scrolled": true
   },
   "outputs": [
    {
     "name": "stdout",
     "output_type": "stream",
     "text": [
      "하늘과 바람과 별과 시\n",
      "서시\n",
      "자화상\n",
      "소년\n",
      "눈 오는 지도\n",
      "돌아와 보는 밤\n",
      "병원\n",
      "새로운 길\n",
      "간판 없는 거리\n",
      "태초의 아침\n",
      "또 태초의 아침\n",
      "새벽이 올 때까지\n",
      "무서운 시간\n",
      "십자가\n",
      "바람이 불어\n",
      "슬픈 족속\n",
      "눈감고 간다\n",
      "또 다른 고향\n",
      "길\n",
      "별 헤는 밤\n",
      "흰 그림자\n",
      "사랑스런 추억\n",
      "흐르는 거리\n",
      "쉽게 씌어진 시\n",
      "봄\n",
      "참회록\n",
      "간(肝)\n",
      "위로\n",
      "팔복\n",
      "못자는밤\n",
      "달같이\n",
      "고추밭\n",
      "아우의 인상화\n",
      "사랑의 전당\n",
      "이적\n",
      "비오는 밤\n",
      "산골물\n",
      "유언\n",
      "창\n",
      "바다\n",
      "비로봉\n",
      "산협의 오후\n",
      "명상\n",
      "소낙비\n",
      "한난계\n",
      "풍경\n",
      "달밤\n",
      "장\n",
      "밤\n",
      "황혼이 바다가 되어\n",
      "아침\n",
      "빨래\n",
      "꿈은 깨어지고\n",
      "산림\n",
      "이런날\n",
      "산상\n",
      "양지쪽\n",
      "닭\n",
      "가슴 1\n",
      "가슴 2\n",
      "비둘기\n",
      "황혼\n",
      "남쪽 하늘\n",
      "창공\n",
      "거리에서\n",
      "삶과 죽음\n",
      "초한대\n",
      "산울림\n",
      "해바라기 얼굴\n",
      "귀뚜라미와 나와\n",
      "애기의 새벽\n",
      "햇빛·바람\n",
      "반디불\n",
      "둘 다\n",
      "거짓부리\n",
      "눈\n",
      "참새\n",
      "버선본\n",
      "편지\n",
      "봄\n",
      "무얼 먹구 사나\n",
      "굴뚝\n",
      "햇비\n",
      "빗자루\n",
      "기왓장 내외\n",
      "오줌싸개 지도\n",
      "병아리\n",
      "조개껍질\n",
      "겨울\n",
      "트루게네프의 언덕\n",
      "달을 쏘다\n",
      "별똥 떨어진 데\n",
      "화원에 꽃이 핀다\n",
      "종시\n"
     ]
    }
   ],
   "source": [
    "exam = soup.select(\"div.mw-parser-output > ul > li\")\n",
    "test = soup.select(\"#mw-content-text > div.mw-parser-output > ul > li >ul>li\")\n",
    "for i in exam:\n",
    "    if i ==exam[0]:\n",
    "        print(soup.select(\"#mw-content-text > div.mw-parser-output > ul > li > b > a\")[0].string)\n",
    "        for j in test:\n",
    "            \n",
    "            print(j.string)\n",
    "    else:\n",
    "        print(i.string)\n"
   ]
  },
  {
   "cell_type": "code",
   "execution_count": 67,
   "id": "db0e96f2",
   "metadata": {},
   "outputs": [
    {
     "name": "stdout",
     "output_type": "stream",
     "text": [
      "하늘과 바람과 별과 시\n",
      "서시\n",
      "자화상\n",
      "소년\n",
      "눈 오는 지도\n",
      "돌아와 보는 밤\n",
      "병원\n",
      "새로운 길\n",
      "간판 없는 거리\n",
      "태초의 아침\n",
      "또 태초의 아침\n",
      "새벽이 올 때까지\n",
      "무서운 시간\n",
      "십자가\n",
      "바람이 불어\n",
      "슬픈 족속\n",
      "눈감고 간다\n",
      "또 다른 고향\n",
      "길\n",
      "별 헤는 밤\n",
      "흰 그림자\n",
      "사랑스런 추억\n",
      "흐르는 거리\n",
      "쉽게 씌어진 시\n",
      "봄\n",
      "참회록\n",
      "간(肝)\n",
      "위로\n",
      "팔복\n",
      "못자는밤\n",
      "달같이\n",
      "고추밭\n",
      "아우의 인상화\n",
      "사랑의 전당\n",
      "이적\n",
      "비오는 밤\n",
      "산골물\n",
      "유언\n",
      "창\n",
      "바다\n",
      "비로봉\n",
      "산협의 오후\n",
      "명상\n",
      "소낙비\n",
      "한난계\n",
      "풍경\n",
      "달밤\n",
      "장\n",
      "밤\n",
      "황혼이 바다가 되어\n",
      "아침\n",
      "빨래\n",
      "꿈은 깨어지고\n",
      "산림\n",
      "이런날\n",
      "산상\n",
      "양지쪽\n",
      "닭\n",
      "가슴 1\n",
      "가슴 2\n",
      "비둘기\n",
      "황혼\n",
      "남쪽 하늘\n",
      "창공\n",
      "거리에서\n",
      "삶과 죽음\n",
      "초한대\n",
      "산울림\n",
      "해바라기 얼굴\n",
      "귀뚜라미와 나와\n",
      "애기의 새벽\n",
      "햇빛·바람\n",
      "반디불\n",
      "둘 다\n",
      "거짓부리\n",
      "눈\n",
      "참새\n",
      "버선본\n",
      "편지\n",
      "봄\n",
      "무얼 먹구 사나\n",
      "굴뚝\n",
      "햇비\n",
      "빗자루\n",
      "기왓장 내외\n",
      "오줌싸개 지도\n",
      "병아리\n",
      "조개껍질\n",
      "겨울\n",
      "트루게네프의 언덕\n",
      "달을 쏘다\n",
      "별똥 떨어진 데\n",
      "화원에 꽃이 핀다\n",
      "종시\n",
      "====================\n",
      "['하늘과 바람과 별과 시', '서시', '자화상', '소년', '눈 오는 지도', '돌아와 보는 밤', '병원', '새로운 길', '간판 없는 거리', '태초의 아침', '또 태초의 아침', '새벽이 올 때까지', '무서운 시간', '십자가', '바람이 불어', '슬픈 족속', '눈감고 간다', '또 다른 고향', '길', '별 헤는 밤', '흰 그림자', '사랑스런 추억', '흐르는 거리', '쉽게 씌어진 시', '봄', '참회록', '간(肝)', '위로', '팔복', '못자는밤', '달같이', '고추밭', '아우의 인상화', '사랑의 전당', '이적', '비오는 밤', '산골물', '유언', '창', '바다', '비로봉', '산협의 오후', '명상', '소낙비', '한난계', '풍경', '달밤', '장', '밤', '황혼이 바다가 되어', '아침', '빨래', '꿈은 깨어지고', '산림', '이런날', '산상', '양지쪽', '닭', '가슴 1', '가슴 2', '비둘기', '황혼', '남쪽 하늘', '창공', '거리에서', '삶과 죽음', '초한대', '산울림', '해바라기 얼굴', '귀뚜라미와 나와', '애기의 새벽', '햇빛·바람', '반디불', '둘 다', '거짓부리', '눈', '참새', '버선본', '편지', '봄', '무얼 먹구 사나', '굴뚝', '햇비', '빗자루', '기왓장 내외', '오줌싸개 지도', '병아리', '조개껍질', '겨울', '트루게네프의 언덕', '달을 쏘다', '별똥 떨어진 데', '화원에 꽃이 핀다', '종시']\n"
     ]
    }
   ],
   "source": [
    "exam = soup.select(\"div.mw-parser-output > ul a\")\n",
    "examList = []\n",
    "for i in exam:\n",
    "    if i.string == '증보판':\n",
    "        continue\n",
    "    else:\n",
    "        print(i.string)\n",
    "        examList.append(i.string)\n",
    "print(\"=\"*20) \n",
    "print(examList)"
   ]
  },
  {
   "cell_type": "code",
   "execution_count": null,
   "id": "3abc5cef",
   "metadata": {},
   "outputs": [],
   "source": []
  },
  {
   "cell_type": "code",
   "execution_count": null,
   "id": "8bc5ab8b",
   "metadata": {},
   "outputs": [],
   "source": []
  }
 ],
 "metadata": {
  "kernelspec": {
   "display_name": "Python 3",
   "language": "python",
   "name": "python3"
  },
  "language_info": {
   "codemirror_mode": {
    "name": "ipython",
    "version": 3
   },
   "file_extension": ".py",
   "mimetype": "text/x-python",
   "name": "python",
   "nbconvert_exporter": "python",
   "pygments_lexer": "ipython3",
   "version": "3.8.8"
  }
 },
 "nbformat": 4,
 "nbformat_minor": 5
}
