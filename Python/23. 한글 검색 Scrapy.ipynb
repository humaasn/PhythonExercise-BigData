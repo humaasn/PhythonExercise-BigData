{
 "cells": [
  {
   "cell_type": "markdown",
   "id": "f3315254",
   "metadata": {},
   "source": [
    "# https://ko.wikisource.org/wiki/%EC%A0%80%EC%9E%90:%EC%9C%A4%EB%8F%99%EC%A3%BC\n",
    "# https://ko.wikisource.org/wiki/저자:윤동주"
   ]
  },
  {
   "cell_type": "code",
   "execution_count": 17,
   "id": "4c00585e",
   "metadata": {},
   "outputs": [],
   "source": [
    "from urllib import parse \n",
    "from bs4 import BeautifulSoup\n",
    "from urllib.request import urlopen"
   ]
  },
  {
   "cell_type": "code",
   "execution_count": 34,
   "id": "1b72d4bd",
   "metadata": {},
   "outputs": [
    {
     "name": "stdout",
     "output_type": "stream",
     "text": [
      "https%3A//ko.wikisource.org/wiki/%EC%A0%80%EC%9E%90%3A%EC%9C%A4%EB%8F%99%EC%A3%BC\n"
     ]
    }
   ],
   "source": [
    "url = \"https://ko.wikisource.org/wiki/저자:윤동주\"\n",
    "url = parse.quote(url)\n",
    "print(url)"
   ]
  },
  {
   "cell_type": "code",
   "execution_count": 37,
   "id": "62255162",
   "metadata": {},
   "outputs": [
    {
     "name": "stdout",
     "output_type": "stream",
     "text": [
      "https://ko.wikisource.org/wiki/%EC%A0%80%EC%9E%90:%EC%9C%A4%EB%8F%99%EC%A3%BC\n"
     ]
    }
   ],
   "source": [
    "auth = \"저자\"\n",
    "name = \"윤동주\"\n",
    "url =\"https://ko.wikisource.org/wiki/\"\n",
    "url = url + parse.quote(auth) + \":\" + parse.quote(name)\n",
    "print(url)"
   ]
  },
  {
   "cell_type": "code",
   "execution_count": 39,
   "id": "144e636d",
   "metadata": {},
   "outputs": [],
   "source": [
    "page = urlopen(url)\n",
    "soup = BeautifulSoup(page, 'html.parser')\n",
    "content=soup.select(\"#mw-content-text > div.mw-parser-output > table > tbody > tr > td\")"
   ]
  },
  {
   "cell_type": "code",
   "execution_count": 43,
   "id": "b776a076",
   "metadata": {},
   "outputs": [
    {
     "data": {
      "text/plain": [
       "[<td style=\"width:30%;\">←<a href=\"/wiki/%EB%B6%84%EB%A5%98:%EC%A0%80%EC%9E%90_%E3%85%87\" title=\"분류:저자 ㅇ\">분류:저자 ㅇ</a><br/>←<a href=\"/wiki/%EB%B6%84%EB%A5%98:%EC%9D%BC%EC%A0%9C_%EA%B0%95%EC%A0%90%EA%B8%B0%EC%9D%98_%EC%A0%80%EC%9E%90\" title=\"분류:일제 강점기의 저자\">분류:일제 강점기의 저자</a>\n",
       " </td>,\n",
       " <td style=\"width:45%; text-align:center;\"><span style=\"font-size:115%;\"><b>윤동주</b></span><br/>尹東柱<br/>(1917년 ~ 1945년)\n",
       " </td>,\n",
       " <td style=\"width:25%;\">\n",
       " </td>,\n",
       " <td><span style=\"float:right; padding:2px; margin:0 0 0.5em 1em; border:1px solid #CCC;\">참고 <a class=\"image\" href=\"/wiki/%ED%8C%8C%EC%9D%BC:Wikipedia-logo.png\" title=\"위키백과\"><img alt=\"위키백과\" data-file-height=\"200\" data-file-width=\"200\" decoding=\"async\" height=\"20\" src=\"//upload.wikimedia.org/wikipedia/commons/thumb/6/63/Wikipedia-logo.png/20px-Wikipedia-logo.png\" srcset=\"//upload.wikimedia.org/wikipedia/commons/thumb/6/63/Wikipedia-logo.png/30px-Wikipedia-logo.png 1.5x, //upload.wikimedia.org/wikipedia/commons/thumb/6/63/Wikipedia-logo.png/40px-Wikipedia-logo.png 2x\" width=\"20\"/></a> <a class=\"extiw\" href=\"https://ko.wikipedia.org/wiki/%EC%9C%A4%EB%8F%99%EC%A3%BC\" title=\"w:윤동주\">생애</a></span> 한국 일제 강점기의 시인이다. 본관은 파평(坡平), 아호는 해환(海煥)이다. 1941년 연희전문학교 문과를 졸업하였고, 작품집을 내려 했으나 뜻을 이루지 못하였다. 1942년 일본으로 유학을 떠났다가 1943년 사상범으로 체포되어, 1945년 후쿠오카 형무소에서 옥사하였다. 1948년 유고 시집 《하늘과 바람과 별과 시》가 출판되었다. — 우리 모두의 백과사전, <a class=\"extiw\" href=\"https://ko.wikipedia.org/wiki/%EC%9C%84%ED%82%A4%EB%B0%B1%EA%B3%BC:%EB%8C%80%EB%AC%B8\" title=\"w:위키백과:대문\">위키백과</a>의 <a class=\"extiw\" href=\"https://ko.wikipedia.org/wiki/%EC%9C%A4%EB%8F%99%EC%A3%BC\" title=\"w:윤동주\">윤동주</a>에서 인용.\n",
       " </td>,\n",
       " <td><a class=\"image\" href=\"/wiki/%ED%8C%8C%EC%9D%BC:Wiki_letter_w.svg\"><img alt=\"Wiki letter w.svg\" data-file-height=\"44\" data-file-width=\"44\" decoding=\"async\" height=\"26\" src=\"//upload.wikimedia.org/wikipedia/commons/thumb/6/6c/Wiki_letter_w.svg/26px-Wiki_letter_w.svg.png\" srcset=\"//upload.wikimedia.org/wikipedia/commons/thumb/6/6c/Wiki_letter_w.svg/39px-Wiki_letter_w.svg.png 1.5x, //upload.wikimedia.org/wikipedia/commons/thumb/6/6c/Wiki_letter_w.svg/52px-Wiki_letter_w.svg.png 2x\" width=\"26\"/></a> 이 문서의 일부는 아직 미완성입니다. 자료를 찾을 수 있다면 이 글에 직접 기여해주세요.\n",
       " </td>]"
      ]
     },
     "execution_count": 43,
     "metadata": {},
     "output_type": "execute_result"
    }
   ],
   "source": [
    "content"
   ]
  },
  {
   "cell_type": "code",
   "execution_count": null,
   "id": "e52fc454",
   "metadata": {},
   "outputs": [],
   "source": []
  },
  {
   "cell_type": "markdown",
   "id": "93c42157",
   "metadata": {},
   "source": [
    "## 한빛 출판 네트워크에서 이코인 가져오기 \n",
    "https://www.hanbit.co.kr/member/login.html"
   ]
  },
  {
   "cell_type": "code",
   "execution_count": null,
   "id": "d3354fd8",
   "metadata": {},
   "outputs": [],
   "source": [
    "\n",
    "login.html -> login_pro.php -> login_html로 이동 \n",
    "login"
   ]
  },
  {
   "cell_type": "code",
   "execution_count": null,
   "id": "76c4d992",
   "metadata": {},
   "outputs": [],
   "source": []
  }
 ],
 "metadata": {
  "kernelspec": {
   "display_name": "Python 3",
   "language": "python",
   "name": "python3"
  },
  "language_info": {
   "codemirror_mode": {
    "name": "ipython",
    "version": 3
   },
   "file_extension": ".py",
   "mimetype": "text/x-python",
   "name": "python",
   "nbconvert_exporter": "python",
   "pygments_lexer": "ipython3",
   "version": "3.8.8"
  }
 },
 "nbformat": 4,
 "nbformat_minor": 5
}
