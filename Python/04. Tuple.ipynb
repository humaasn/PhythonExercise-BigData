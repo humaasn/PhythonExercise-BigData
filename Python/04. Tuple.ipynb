{
 "cells": [
  {
   "cell_type": "markdown",
   "id": "def270df",
   "metadata": {},
   "source": [
    "## Tuple과 List의 차이점 \n",
    "- (,)\n",
    "- 리스트는 값을 생성,삭제,수정이 가능하지만 Tuple은 변경 불가"
   ]
  },
  {
   "cell_type": "code",
   "execution_count": 9,
   "id": "8ec76e47",
   "metadata": {},
   "outputs": [],
   "source": [
    "var01 = ()\n",
    "var02 = (1,) # 자료가 하나여도 반드시 ,를 붙힌다. \n",
    "var03 = (1,2,3)\n",
    "var07 = 1,2,3\n",
    "var05 = ('a','b',('ab','cd'))"
   ]
  },
  {
   "cell_type": "code",
   "execution_count": 10,
   "id": "1c469d29",
   "metadata": {},
   "outputs": [
    {
     "name": "stdout",
     "output_type": "stream",
     "text": [
      "()\n",
      "(1,)\n",
      "(1, 2, 3)\n",
      "(1, 2, 3)\n",
      "('a', 'b', ('ab', 'cd'))\n"
     ]
    }
   ],
   "source": [
    "print(var01)\n",
    "print(var02)\n",
    "print(var03)\n",
    "print(var07)\n",
    "print(var05)"
   ]
  },
  {
   "cell_type": "code",
   "execution_count": null,
   "id": "46cf0788",
   "metadata": {},
   "outputs": [],
   "source": []
  }
 ],
 "metadata": {
  "kernelspec": {
   "display_name": "Python 3 (ipykernel)",
   "language": "python",
   "name": "python3"
  },
  "language_info": {
   "codemirror_mode": {
    "name": "ipython",
    "version": 3
   },
   "file_extension": ".py",
   "mimetype": "text/x-python",
   "name": "python",
   "nbconvert_exporter": "python",
   "pygments_lexer": "ipython3",
   "version": "3.8.2"
  }
 },
 "nbformat": 4,
 "nbformat_minor": 5
}
