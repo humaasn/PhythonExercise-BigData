{
 "cells": [
  {
   "cell_type": "markdown",
   "id": "792698b9",
   "metadata": {},
   "source": [
    "# 변수와 자료형 \n",
    "## 변수 \n",
    "계산에 필요한 자료를 일시적으로 저장하거나 처리결과를 담을 수 있는 기억장소를 지정해 주는 역할.\n",
    "변수 이름은 값을 지정하는 메모리 영역의 이름으로 할당. \n",
    "\n",
    "## 변수 이름의 작성 규칙 \n",
    "- 첫자는 영문으로 시작. \n",
    "- 첫자를 제외하고 숫자,under bar, dot를 사용할 수 있음 \n",
    "- 대문자와 소문자를 구분. \n",
    "- 변수 이름은 의미를 파악할 수 있는 이름으로 저장하는 것이 좋다. \n",
    "- 두 단어를 포함한 변수이름을 지정할 경우 두번째 단어의 첫자는 대문자로 표시(Camel)하거나 under bar로 표시하는 것이 가독성이 좋다 "
   ]
  },
  {
   "cell_type": "markdown",
   "id": "d235647e",
   "metadata": {},
   "source": [
    "# 자료형 "
   ]
  },
  {
   "cell_type": "markdown",
   "id": "5de0a610",
   "metadata": {},
   "source": [
    "## 숫자 자료형 "
   ]
  },
  {
   "cell_type": "code",
   "execution_count": 1,
   "id": "beea3e2a",
   "metadata": {},
   "outputs": [
    {
     "data": {
      "text/plain": [
       "0"
      ]
     },
     "execution_count": 1,
     "metadata": {},
     "output_type": "execute_result"
    }
   ],
   "source": [
    "# 정수형 \n",
    "var01 = 123 \n",
    "var01 = -17\n",
    "var01 = 0\n",
    "\n",
    "var01"
   ]
  },
  {
   "cell_type": "code",
   "execution_count": 3,
   "id": "eaf80c47",
   "metadata": {},
   "outputs": [
    {
     "data": {
      "text/plain": [
       "-12.34"
      ]
     },
     "execution_count": 3,
     "metadata": {},
     "output_type": "execute_result"
    }
   ],
   "source": [
    "# 실수형 \n",
    "var02 = 1.2 \n",
    "var02 = -12.34\n",
    "\n",
    "var02"
   ]
  },
  {
   "cell_type": "code",
   "execution_count": 7,
   "id": "0f1ba270",
   "metadata": {},
   "outputs": [
    {
     "name": "stdout",
     "output_type": "stream",
     "text": [
      "덧셈 : 7\n",
      "뺼셈 : -1\n",
      "곱셈 : 12\n",
      "나눗셈 : 0.75\n",
      "정수 나눗셈 몫 : 0\n",
      "정수 나눗셈 나머지 : 3\n",
      "제곱 : 9\n"
     ]
    }
   ],
   "source": [
    "# 연산자 \n",
    "var01 = 3 \n",
    "var02 = 4 \n",
    "print('덧셈 :', var01 + var02)\n",
    "print('뺼셈 :', var01 - var02)\n",
    "print('곱셈 :', var01 * var02)\n",
    "print('나눗셈 :', var01 / var02)\n",
    "print('정수 나눗셈 몫 :', var01 // var02)\n",
    "print('정수 나눗셈 나머지 :', var01 % var02)\n",
    "print('제곱 :', var01 ** 2)"
   ]
  },
  {
   "cell_type": "code",
   "execution_count": 12,
   "id": "7c20a9c0",
   "metadata": {},
   "outputs": [
    {
     "name": "stdout",
     "output_type": "stream",
     "text": [
      "거듭제곱 : 9\n"
     ]
    }
   ],
   "source": [
    "# 거듭제곱\n",
    "print('거듭제곱 :', pow((var01),2))"
   ]
  },
  {
   "cell_type": "markdown",
   "id": "4eb10c00",
   "metadata": {},
   "source": [
    "# 파이썬 모듈을 이용한 수학계산"
   ]
  },
  {
   "cell_type": "code",
   "execution_count": 13,
   "id": "72adec20",
   "metadata": {},
   "outputs": [],
   "source": [
    "# 수학 계산 모듈 불러오기 \n",
    "import math"
   ]
  },
  {
   "cell_type": "code",
   "execution_count": 14,
   "id": "09bc2516",
   "metadata": {},
   "outputs": [
    {
     "data": {
      "text/plain": [
       "9.0"
      ]
     },
     "execution_count": 14,
     "metadata": {},
     "output_type": "execute_result"
    }
   ],
   "source": [
    "# 거듭제곱 \n",
    "math.pow(var01,2)"
   ]
  },
  {
   "cell_type": "code",
   "execution_count": 15,
   "id": "97b8ce54",
   "metadata": {},
   "outputs": [
    {
     "data": {
      "text/plain": [
       "1.7320508075688772"
      ]
     },
     "execution_count": 15,
     "metadata": {},
     "output_type": "execute_result"
    }
   ],
   "source": [
    "# 제곱근 \n",
    "math.sqrt(var01)"
   ]
  },
  {
   "cell_type": "code",
   "execution_count": 16,
   "id": "60be5807",
   "metadata": {},
   "outputs": [
    {
     "data": {
      "text/plain": [
       "0.8509035245341184"
      ]
     },
     "execution_count": 16,
     "metadata": {},
     "output_type": "execute_result"
    }
   ],
   "source": [
    "# sin45 \n",
    "math.sin(45)"
   ]
  },
  {
   "cell_type": "code",
   "execution_count": 17,
   "id": "cc7f63fa",
   "metadata": {},
   "outputs": [
    {
     "data": {
      "text/plain": [
       "1.0"
      ]
     },
     "execution_count": 17,
     "metadata": {},
     "output_type": "execute_result"
    }
   ],
   "source": [
    "math.pow(math.sin(45),2)+ math.pow(math.cos(45),2) "
   ]
  },
  {
   "cell_type": "markdown",
   "id": "6521023a",
   "metadata": {},
   "source": [
    "## 난수 발생 "
   ]
  },
  {
   "cell_type": "code",
   "execution_count": 18,
   "id": "8bb57fc9",
   "metadata": {},
   "outputs": [],
   "source": [
    "import random "
   ]
  },
  {
   "cell_type": "code",
   "execution_count": 19,
   "id": "37a40188",
   "metadata": {},
   "outputs": [
    {
     "data": {
      "text/plain": [
       "58"
      ]
     },
     "execution_count": 19,
     "metadata": {},
     "output_type": "execute_result"
    }
   ],
   "source": [
    "# 1~100개 난수(정수) 발생 \n",
    "random.randint(1,100)"
   ]
  },
  {
   "cell_type": "code",
   "execution_count": 27,
   "id": "36473ccc",
   "metadata": {},
   "outputs": [
    {
     "data": {
      "text/plain": [
       "[41, 15, 11, 36, 44, 40]"
      ]
     },
     "execution_count": 27,
     "metadata": {},
     "output_type": "execute_result"
    }
   ],
   "source": [
    "# 로또 난수 발생 \n",
    "lotto_list = range(1,46)\n",
    "random.sample(lotto_list,6) # 중복 안되면서 숫자 추출 "
   ]
  },
  {
   "cell_type": "markdown",
   "id": "38f58b5e",
   "metadata": {},
   "source": [
    "# 반올림 \n",
    "> round는 좀 더 가까운 짝수 값으로 올림 연산을 한다(정수만 사용하는 경우)\n"
   ]
  },
  {
   "cell_type": "code",
   "execution_count": 29,
   "id": "f664be22",
   "metadata": {},
   "outputs": [
    {
     "data": {
      "text/plain": [
       "2"
      ]
     },
     "execution_count": 29,
     "metadata": {},
     "output_type": "execute_result"
    }
   ],
   "source": [
    "round(2.5)"
   ]
  },
  {
   "cell_type": "markdown",
   "id": "21643ab7",
   "metadata": {},
   "source": [
    "# 올림과 내림"
   ]
  },
  {
   "cell_type": "code",
   "execution_count": 32,
   "id": "850db36f",
   "metadata": {},
   "outputs": [
    {
     "data": {
      "text/plain": [
       "2"
      ]
     },
     "execution_count": 32,
     "metadata": {},
     "output_type": "execute_result"
    }
   ],
   "source": [
    "# 올림 \n",
    "math.ceil(1.9)\n",
    "math.ceil(1.1)"
   ]
  },
  {
   "cell_type": "code",
   "execution_count": 33,
   "id": "31bf2b1c",
   "metadata": {},
   "outputs": [
    {
     "data": {
      "text/plain": [
       "1"
      ]
     },
     "execution_count": 33,
     "metadata": {},
     "output_type": "execute_result"
    }
   ],
   "source": [
    "# 내림\n",
    "math.floor(1.6)\n",
    "math.floor(1.3)"
   ]
  },
  {
   "cell_type": "markdown",
   "id": "5dc1afc3",
   "metadata": {},
   "source": [
    "# 메모리에 있는 변수 보기 "
   ]
  },
  {
   "cell_type": "code",
   "execution_count": 39,
   "id": "fbf05bf0",
   "metadata": {},
   "outputs": [
    {
     "data": {
      "text/plain": [
       "<function dir>"
      ]
     },
     "execution_count": 39,
     "metadata": {},
     "output_type": "execute_result"
    }
   ],
   "source": []
  },
  {
   "cell_type": "code",
   "execution_count": 37,
   "id": "5edc64d0",
   "metadata": {},
   "outputs": [],
   "source": [
    "# 메모리에 있는 변수 제거 \n",
    "del var01"
   ]
  },
  {
   "cell_type": "markdown",
   "id": "d55c1e21",
   "metadata": {},
   "source": [
    "## 관계 연산자 "
   ]
  },
  {
   "cell_type": "code",
   "execution_count": 40,
   "id": "e4578b8b",
   "metadata": {},
   "outputs": [
    {
     "data": {
      "text/plain": [
       "False"
      ]
     },
     "execution_count": 40,
     "metadata": {},
     "output_type": "execute_result"
    }
   ],
   "source": [
    "#부정 연산자 \n",
    "num1 = 50 \n",
    "not(num1 >=50)"
   ]
  },
  {
   "cell_type": "code",
   "execution_count": 41,
   "id": "ed6b98e8",
   "metadata": {},
   "outputs": [
    {
     "name": "stdout",
     "output_type": "stream",
     "text": [
      "01. Preview.ipynb              02. 변수와 자료형 .ipynb\r\n"
     ]
    }
   ],
   "source": [
    "# 자료 확인 ()\n",
    "!ls"
   ]
  },
  {
   "cell_type": "markdown",
   "id": "d4625178",
   "metadata": {},
   "source": [
    "# 문자열 자료형"
   ]
  },
  {
   "cell_type": "code",
   "execution_count": 44,
   "id": "01fbe383",
   "metadata": {},
   "outputs": [
    {
     "name": "stdout",
     "output_type": "stream",
     "text": [
      "\n",
      "    Hello world! \n",
      "      Good to meet you!\n",
      "\n"
     ]
    }
   ],
   "source": [
    "# 여러줄의 문자열 출력 (\"\"\" 이 사이에 문자만 넣어야 된다 \"\"\")\n",
    "var01 = \"\"\"\n",
    "    Hello world! \n",
    "      Good to meet you!\n",
    "\"\"\"\n",
    "print(var01)"
   ]
  },
  {
   "cell_type": "code",
   "execution_count": 45,
   "id": "2d711860",
   "metadata": {},
   "outputs": [
    {
     "data": {
      "text/plain": [
       "\"My Father's wife is my mother\""
      ]
     },
     "execution_count": 45,
     "metadata": {},
     "output_type": "execute_result"
    }
   ],
   "source": [
    "# 쌍따옴표와 홑따옴표 \n",
    "var01 = \"My Father's wife is my mother\"\n",
    "var01"
   ]
  },
  {
   "cell_type": "code",
   "execution_count": 47,
   "id": "e53cdae4",
   "metadata": {},
   "outputs": [
    {
     "name": "stdout",
     "output_type": "stream",
     "text": [
      "He says \"I love you.\"\n"
     ]
    }
   ],
   "source": [
    "var02 = 'He says \"I love you.\"'\n",
    "print(var02)"
   ]
  },
  {
   "cell_type": "code",
   "execution_count": 50,
   "id": "d7e7e1e9",
   "metadata": {},
   "outputs": [
    {
     "name": "stdout",
     "output_type": "stream",
     "text": [
      "Pythonis fun.\n",
      "Python is fun.\n"
     ]
    }
   ],
   "source": [
    "# 문자열 덧셈 \n",
    "var01 = 'Python'\n",
    "var02 = 'is fun.'\n",
    "print(var01 + var02)\n",
    "print(var01,var02)"
   ]
  },
  {
   "cell_type": "code",
   "execution_count": 51,
   "id": "4a095a29",
   "metadata": {},
   "outputs": [
    {
     "name": "stdout",
     "output_type": "stream",
     "text": [
      "PythonPythonPython\n"
     ]
    }
   ],
   "source": [
    "# 문자열 곱셈 \n",
    "print(var01 * 3)"
   ]
  },
  {
   "cell_type": "markdown",
   "id": "2c7cae8d",
   "metadata": {},
   "source": [
    "# 문자열 indexing과 Slicing "
   ]
  },
  {
   "cell_type": "code",
   "execution_count": 57,
   "id": "2ab588b6",
   "metadata": {},
   "outputs": [
    {
     "name": "stdout",
     "output_type": "stream",
     "text": [
      "a\n",
      "abc\n",
      "n\n",
      "fghigklmn\n",
      "abcde\n"
     ]
    }
   ],
   "source": [
    "str=\"abcdefghigklmn\"\n",
    "print(str[0])\n",
    "print(str[0:3])\n",
    "print(str[-1])\n",
    "print(str[5:])\n",
    "print(str[:5])"
   ]
  },
  {
   "cell_type": "code",
   "execution_count": 58,
   "id": "b5c6302d",
   "metadata": {},
   "outputs": [
    {
     "name": "stdout",
     "output_type": "stream",
     "text": [
      "2012 3 Snow\n"
     ]
    }
   ],
   "source": [
    "str = \"201211230Snow\"\n",
    "year = str[0:4]\n",
    "day = str[7:8]\n",
    "weather = str[9:]\n",
    "print(year, day, weather)"
   ]
  },
  {
   "cell_type": "code",
   "execution_count": 73,
   "id": "b5eec65e",
   "metadata": {},
   "outputs": [
    {
     "name": "stdout",
     "output_type": "stream",
     "text": [
      "abcdde\n"
     ]
    }
   ],
   "source": [
    "str ='abde'\n",
    "a = str[0:2]\n",
    "b = 'cd'\n",
    "c = str[2:4]\n",
    "str1 = a+b+c\n",
    "print(str1)\n",
    "\n"
   ]
  },
  {
   "cell_type": "markdown",
   "id": "8ab7d2ee",
   "metadata": {},
   "source": [
    "# 문자열 fomatting"
   ]
  },
  {
   "cell_type": "code",
   "execution_count": 75,
   "id": "9fba07a9",
   "metadata": {},
   "outputs": [
    {
     "name": "stdout",
     "output_type": "stream",
     "text": [
      "I hava 2 apples.\n"
     ]
    }
   ],
   "source": [
    "# 정수형 = %d\n",
    "print('I hava %d apples.'% 2)"
   ]
  },
  {
   "cell_type": "code",
   "execution_count": 76,
   "id": "6a3f7982",
   "metadata": {},
   "outputs": [
    {
     "name": "stdout",
     "output_type": "stream",
     "text": [
      "I have two apples\n"
     ]
    }
   ],
   "source": [
    "# 문자열 = %s\n",
    "print('I have %s apples'% 'two')"
   ]
  },
  {
   "cell_type": "code",
   "execution_count": 78,
   "id": "822e41ea",
   "metadata": {},
   "outputs": [
    {
     "name": "stdout",
     "output_type": "stream",
     "text": [
      "I have 2 apples\n"
     ]
    }
   ],
   "source": [
    "# 혼합형\n",
    "number = 2 \n",
    "fruit = \"apples\"\n",
    "print(\"I have %d %s\" %(number, fruit))"
   ]
  },
  {
   "cell_type": "code",
   "execution_count": 81,
   "id": "85f32738",
   "metadata": {},
   "outputs": [
    {
     "name": "stdout",
     "output_type": "stream",
     "text": [
      "I have 2     apples\n",
      "I have 2 apples    \n"
     ]
    }
   ],
   "source": [
    "# 문자열 정렬 \n",
    "print(\"I have 2 %10s\" %fruit)\n",
    "print(\"I have 2 %-10s\" %fruit)"
   ]
  },
  {
   "cell_type": "code",
   "execution_count": 85,
   "id": "66ab93d8",
   "metadata": {},
   "outputs": [
    {
     "name": "stdout",
     "output_type": "stream",
     "text": [
      "    2.3444\n",
      "2.3444\n"
     ]
    }
   ],
   "source": [
    "# %f 실수형 \n",
    "print(\"%10.4f\" %2.344433)\n",
    "print(\"%0.4f\" %2.344433)"
   ]
  },
  {
   "cell_type": "markdown",
   "id": "fb879d6d",
   "metadata": {},
   "source": [
    "# 문자열 관련 함수 "
   ]
  },
  {
   "cell_type": "code",
   "execution_count": 89,
   "id": "d1b894de",
   "metadata": {},
   "outputs": [
    {
     "name": "stdout",
     "output_type": "stream",
     "text": [
      "3\n",
      "15\n"
     ]
    }
   ],
   "source": [
    "str = 'I have a dream.'\n",
    "print(str.count('a')) # str에 count하고자 하는 문자열을 기입 \n",
    "print(len(str))"
   ]
  },
  {
   "cell_type": "code",
   "execution_count": 91,
   "id": "a608a422",
   "metadata": {},
   "outputs": [
    {
     "name": "stdout",
     "output_type": "stream",
     "text": [
      "5\n",
      "-1\n"
     ]
    }
   ],
   "source": [
    "# 문자 위치 알려주기 \n",
    "print(str.find('e'))\n",
    "print(str.find('x')) # -1: 해당 글자 없음 "
   ]
  },
  {
   "cell_type": "code",
   "execution_count": 92,
   "id": "d09e01ed",
   "metadata": {},
   "outputs": [
    {
     "data": {
      "text/plain": [
       "'a,b,c,d,e,f,g'"
      ]
     },
     "execution_count": 92,
     "metadata": {},
     "output_type": "execute_result"
    }
   ],
   "source": [
    "# 문자열 삽입 \n",
    "str = ','\n",
    "str.join('abcdefg')"
   ]
  },
  {
   "cell_type": "code",
   "execution_count": 93,
   "id": "d78ac306",
   "metadata": {},
   "outputs": [
    {
     "data": {
      "text/plain": [
       "'hi'"
      ]
     },
     "execution_count": 93,
     "metadata": {},
     "output_type": "execute_result"
    }
   ],
   "source": [
    "# 대문자를 소문자로 바꾸기 \n",
    "str = 'HI'\n",
    "str.lower()"
   ]
  },
  {
   "cell_type": "code",
   "execution_count": 94,
   "id": "979320f1",
   "metadata": {},
   "outputs": [
    {
     "data": {
      "text/plain": [
       "'HI'"
      ]
     },
     "execution_count": 94,
     "metadata": {},
     "output_type": "execute_result"
    }
   ],
   "source": [
    "# 왼쪽 공백 지우기 \n",
    "str = '            HI'\n",
    "str.lstrip()"
   ]
  },
  {
   "cell_type": "code",
   "execution_count": 95,
   "id": "28fa5453",
   "metadata": {},
   "outputs": [
    {
     "data": {
      "text/plain": [
       "'HI'"
      ]
     },
     "execution_count": 95,
     "metadata": {},
     "output_type": "execute_result"
    }
   ],
   "source": [
    "# 오른쪽 공백 지우기 \n",
    "str = 'HI          '\n",
    "str.rstrip()"
   ]
  },
  {
   "cell_type": "code",
   "execution_count": 97,
   "id": "0385c07a",
   "metadata": {},
   "outputs": [
    {
     "data": {
      "text/plain": [
       "'HI'"
      ]
     },
     "execution_count": 97,
     "metadata": {},
     "output_type": "execute_result"
    }
   ],
   "source": [
    "# 양쪽 공백 지우기 \n",
    "str = '            HI         '\n",
    "str.strip()"
   ]
  },
  {
   "cell_type": "code",
   "execution_count": 98,
   "id": "67a01c37",
   "metadata": {},
   "outputs": [
    {
     "data": {
      "text/plain": [
       "'Life is too short to be unhappy'"
      ]
     },
     "execution_count": 98,
     "metadata": {},
     "output_type": "execute_result"
    }
   ],
   "source": [
    "# 문자열 바꾸기 \n",
    "str = \"Life is too short to be happy\"\n",
    "str.replace('happy', 'unhappy')"
   ]
  },
  {
   "cell_type": "code",
   "execution_count": 101,
   "id": "889c72c6",
   "metadata": {},
   "outputs": [
    {
     "name": "stdout",
     "output_type": "stream",
     "text": [
      "['Life', 'is', 'too', 'short', 'to', 'be', 'happy']\n"
     ]
    }
   ],
   "source": [
    "# 문자열 나누기 \n",
    "str = \"Life is too short to be happy\"\n",
    "list01 = str.split() # 공백을 기준으로 나눔\n",
    "type(list01)\n",
    "print(list01)"
   ]
  },
  {
   "cell_type": "code",
   "execution_count": 104,
   "id": "33008e64",
   "metadata": {},
   "outputs": [
    {
     "name": "stdout",
     "output_type": "stream",
     "text": [
      "['a', 'b', 'c', 'd']\n"
     ]
    }
   ],
   "source": [
    "str = \"a:b:c:d\"\n",
    "print(str.split(\":\"))"
   ]
  },
  {
   "cell_type": "markdown",
   "id": "7ef48870",
   "metadata": {},
   "source": [
    "# 고급 문자열 fomatting "
   ]
  },
  {
   "cell_type": "code",
   "execution_count": 108,
   "id": "a9c4b5bf",
   "metadata": {},
   "outputs": [
    {
     "data": {
      "text/plain": [
       "'I have 3 apples.'"
      ]
     },
     "execution_count": 108,
     "metadata": {},
     "output_type": "execute_result"
    }
   ],
   "source": [
    "# 숫자 바로 대입하기 \n",
    "\"I have {0} apples.\".format(3) # 0은 시작점 "
   ]
  },
  {
   "cell_type": "code",
   "execution_count": 109,
   "id": "2f61a32a",
   "metadata": {},
   "outputs": [
    {
     "data": {
      "text/plain": [
       "'I have two apples.'"
      ]
     },
     "execution_count": 109,
     "metadata": {},
     "output_type": "execute_result"
    }
   ],
   "source": [
    "# 문자열 바로 대입하기 \n",
    "\"I have {0} apples.\".format('two') # 0은 시작점 "
   ]
  },
  {
   "cell_type": "code",
   "execution_count": 111,
   "id": "a91bbfe0",
   "metadata": {},
   "outputs": [
    {
     "data": {
      "text/plain": [
       "'I have 3 apples.'"
      ]
     },
     "execution_count": 111,
     "metadata": {},
     "output_type": "execute_result"
    }
   ],
   "source": [
    "# 변수 바로 대입하기 \n",
    "number = 3\n",
    "\"I have {0} apples.\".format(number) # 0은 시작점 "
   ]
  },
  {
   "cell_type": "code",
   "execution_count": 112,
   "id": "8f18afc6",
   "metadata": {},
   "outputs": [
    {
     "data": {
      "text/plain": [
       "'I have 10 apples, I wil go aboard for three days'"
      ]
     },
     "execution_count": 112,
     "metadata": {},
     "output_type": "execute_result"
    }
   ],
   "source": [
    "# 2개 이상의 값 바로 대입하기 \n",
    "number = 10; \n",
    "day = \"three\"\n",
    "\"I have {0} apples, I wil go aboard for {1} days\".format(number, day) # 0은 시작점 "
   ]
  },
  {
   "cell_type": "code",
   "execution_count": 113,
   "id": "58783367",
   "metadata": {},
   "outputs": [
    {
     "data": {
      "text/plain": [
       "'Hi        '"
      ]
     },
     "execution_count": 113,
     "metadata": {},
     "output_type": "execute_result"
    }
   ],
   "source": [
    "# 왼쪽 정렬 \n",
    "'{0:<10}'.format('Hi') # 문자열을 왼쪽으로 정렬, 문자열의 총자리수는 10자리 "
   ]
  },
  {
   "cell_type": "code",
   "execution_count": 114,
   "id": "39dc2a31",
   "metadata": {},
   "outputs": [
    {
     "data": {
      "text/plain": [
       "'        Hi'"
      ]
     },
     "execution_count": 114,
     "metadata": {},
     "output_type": "execute_result"
    }
   ],
   "source": [
    "# 오른쪽 정렬 \n",
    "'{0:>10}'.format('Hi') # 문자열을 오른쪽으로 정렬, 문자열의 총자리수는 10자리 "
   ]
  },
  {
   "cell_type": "code",
   "execution_count": 119,
   "id": "06c6e02b",
   "metadata": {},
   "outputs": [
    {
     "data": {
      "text/plain": [
       "'    Hi    '"
      ]
     },
     "execution_count": 119,
     "metadata": {},
     "output_type": "execute_result"
    }
   ],
   "source": [
    "# 가운데 정렬 \n",
    "'{0:^10}'.format('Hi') # 문자열을 왼쪽으로 정렬, 문자열의 총자리수는 10자리 "
   ]
  },
  {
   "cell_type": "code",
   "execution_count": 122,
   "id": "645cf98e",
   "metadata": {},
   "outputs": [
    {
     "name": "stdout",
     "output_type": "stream",
     "text": [
      "====Hi====\n"
     ]
    }
   ],
   "source": [
    "# 공백 채우기 \n",
    "print('{0:=^10}'.format('Hi'))"
   ]
  },
  {
   "cell_type": "code",
   "execution_count": 123,
   "id": "f42e9c06",
   "metadata": {},
   "outputs": [
    {
     "name": "stdout",
     "output_type": "stream",
     "text": [
      "Hi!!!!!!!!\n"
     ]
    }
   ],
   "source": [
    "print('{0:!<10}'.format('Hi'))"
   ]
  },
  {
   "cell_type": "code",
   "execution_count": 127,
   "id": "e7a2621f",
   "metadata": {},
   "outputs": [
    {
     "name": "stdout",
     "output_type": "stream",
     "text": [
      "3.14\n",
      "      3.14\n"
     ]
    }
   ],
   "source": [
    "# 소수점 표현하기 \n",
    "y = 3.141592\n",
    "print('{0:0.2f}'.format(y))\n",
    "print('{0:10.2f}'.format(y))"
   ]
  },
  {
   "cell_type": "code",
   "execution_count": 128,
   "id": "5dc220f3",
   "metadata": {},
   "outputs": [
    {
     "name": "stdout",
     "output_type": "stream",
     "text": [
      "Python 3.8.2\r\n"
     ]
    }
   ],
   "source": [
    "# command 명령어\n",
    "!Python --version"
   ]
  },
  {
   "cell_type": "code",
   "execution_count": 129,
   "id": "d983828d",
   "metadata": {},
   "outputs": [
    {
     "data": {
      "text/plain": [
       "'나의 이름은 홍길동이고 나이는 30입니다.'"
      ]
     },
     "execution_count": 129,
     "metadata": {},
     "output_type": "execute_result"
    }
   ],
   "source": [
    "# f 문자열 formatting (python 3.6이상)\n",
    "name = '홍길동'\n",
    "age = 30\n",
    "\n",
    "# f는 띄어쓰면 안된다.\n",
    "f'나의 이름은 {name}이고 나이는 {age}입니다.'"
   ]
  },
  {
   "cell_type": "code",
   "execution_count": 130,
   "id": "ad8318d9",
   "metadata": {},
   "outputs": [
    {
     "data": {
      "text/plain": [
       "'새롬양은 내년이면 31살 입니다.'"
      ]
     },
     "execution_count": 130,
     "metadata": {},
     "output_type": "execute_result"
    }
   ],
   "source": [
    "f'새롬양은 내년이면 {age+1}살 입니다.'"
   ]
  },
  {
   "cell_type": "markdown",
   "id": "a7431610",
   "metadata": {},
   "source": [
    "# 날짜형 변환 "
   ]
  },
  {
   "cell_type": "code",
   "execution_count": 131,
   "id": "34c128e4",
   "metadata": {},
   "outputs": [],
   "source": [
    "from datetime import datetime, timedelta # from 패키지 import 모듈"
   ]
  },
  {
   "cell_type": "code",
   "execution_count": 132,
   "id": "2ca61bbf",
   "metadata": {},
   "outputs": [],
   "source": [
    "time1 = datetime(2021,12,25,21,0,0,0) # 년 월 일 시 분 초 밀리 초 "
   ]
  },
  {
   "cell_type": "code",
   "execution_count": 133,
   "id": "f0c0b84d",
   "metadata": {},
   "outputs": [
    {
     "name": "stdout",
     "output_type": "stream",
     "text": [
      "2021-12-25 21:00:00\n"
     ]
    }
   ],
   "source": [
    "print(time1)"
   ]
  },
  {
   "cell_type": "code",
   "execution_count": 134,
   "id": "a3800df7",
   "metadata": {},
   "outputs": [
    {
     "data": {
      "text/plain": [
       "datetime.datetime"
      ]
     },
     "execution_count": 134,
     "metadata": {},
     "output_type": "execute_result"
    }
   ],
   "source": [
    "type(time1)"
   ]
  },
  {
   "cell_type": "code",
   "execution_count": 135,
   "id": "8a14fca4",
   "metadata": {},
   "outputs": [],
   "source": [
    "time2 = datetime.now()"
   ]
  },
  {
   "cell_type": "code",
   "execution_count": 144,
   "id": "0fa50bc2",
   "metadata": {},
   "outputs": [
    {
     "name": "stdout",
     "output_type": "stream",
     "text": [
      "2021-12-15 14:07:32.977292\n",
      "10 days, 6:52:27.022708\n",
      "10 일\n",
      "24747 초\n"
     ]
    }
   ],
   "source": [
    "print(time2)\n",
    "print(time1 - time2)\n",
    "print((time1 - time2).days,'일')\n",
    "print((time1 - time2).seconds,'초')"
   ]
  },
  {
   "cell_type": "code",
   "execution_count": 145,
   "id": "67091fc6",
   "metadata": {},
   "outputs": [
    {
     "name": "stdout",
     "output_type": "stream",
     "text": [
      "현재 시간부터 5일 뒤 2021-12-20 14:07:32.977292\n"
     ]
    }
   ],
   "source": [
    "# 특정 날짜로부터 시간 계산 \n",
    "print('현재 시간부터 5일 뒤', time2 + timedelta(days=5))"
   ]
  },
  {
   "cell_type": "code",
   "execution_count": 147,
   "id": "e2f93a63",
   "metadata": {},
   "outputs": [
    {
     "name": "stdout",
     "output_type": "stream",
     "text": [
      "현재 시간부터 3일 전 2021-12-12 14:07:32.977292\n"
     ]
    }
   ],
   "source": [
    "# 특정 날짜로부터 시간 계산 \n",
    "print('현재 시간부터 3일 전', time2 - timedelta(days=3))"
   ]
  },
  {
   "cell_type": "code",
   "execution_count": 150,
   "id": "09949ad2",
   "metadata": {},
   "outputs": [
    {
     "name": "stdout",
     "output_type": "stream",
     "text": [
      "현재 시간부터 1일 뒤 2시간 전 2021-12-16 12:07:32.977292\n"
     ]
    }
   ],
   "source": [
    "# 특정 날짜로부터 시간 계산 \n",
    "print('현재 시간부터 1일 뒤 2시간 전', time2 + timedelta(days=1, hours=-2))"
   ]
  },
  {
   "cell_type": "code",
   "execution_count": null,
   "id": "56257837",
   "metadata": {},
   "outputs": [],
   "source": []
  }
 ],
 "metadata": {
  "kernelspec": {
   "display_name": "Python 3",
   "language": "python",
   "name": "python3"
  },
  "language_info": {
   "codemirror_mode": {
    "name": "ipython",
    "version": 3
   },
   "file_extension": ".py",
   "mimetype": "text/x-python",
   "name": "python",
   "nbconvert_exporter": "python",
   "pygments_lexer": "ipython3",
   "version": "3.8.8"
  }
 },
 "nbformat": 4,
 "nbformat_minor": 5
}
