{
 "cells": [
  {
   "cell_type": "markdown",
   "id": "d66c7db3",
   "metadata": {},
   "source": [
    "https://www.hanbit.co.kr/member/login.html"
   ]
  },
  {
   "cell_type": "markdown",
   "id": "9addcc9b",
   "metadata": {},
   "source": [
    "## 한빛 출판 네트워크에서 이코인 가져오기\n",
    "https://www.hanbit.co.kr/member/login.html   \n",
    "login.html -> login_pro.php -> login.html로 이동한다.   \n",
    "login_pro.php -> post방식    "
   ]
  },
  {
   "cell_type": "code",
   "execution_count": 1,
   "id": "d0dd86eb",
   "metadata": {},
   "outputs": [],
   "source": [
    "# 모듈\n",
    "import requests\n",
    "from bs4 import BeautifulSoup\n",
    "from urllib.parse import urljoin"
   ]
  },
  {
   "cell_type": "code",
   "execution_count": 8,
   "id": "71349791",
   "metadata": {},
   "outputs": [],
   "source": [
    "# 아이디와 비밀번호\n",
    "USER = \"hasdfg91\"\n",
    "PASS = \"tjdwls970613\""
   ]
  },
  {
   "cell_type": "code",
   "execution_count": 9,
   "id": "5e8ee432",
   "metadata": {},
   "outputs": [],
   "source": [
    "#Session 시작\n",
    "session = requests.session()"
   ]
  },
  {
   "cell_type": "code",
   "execution_count": 10,
   "id": "8741d7da",
   "metadata": {},
   "outputs": [],
   "source": [
    "# 로그인 하기\n",
    "login_info = {\n",
    "    \"m_id\" : USER,\n",
    "    \"m_passwd\" : PASS\n",
    "}\n",
    "url_login =\"https://www.hanbit.co.kr/member/login_proc.php\"\n",
    "res = session.post(url_login,data=login_info)\n",
    "res.raise_for_status()# 오류 발생시 예외발생"
   ]
  },
  {
   "cell_type": "code",
   "execution_count": 11,
   "id": "bb26566b",
   "metadata": {},
   "outputs": [],
   "source": [
    "# 마이페이지 접근하기\n",
    "url_mypage = \"https://www.hanbit.co.kr/myhanbit/myhanbit.html\"\n",
    "res=session.get(url_mypage)\n",
    "res.raise_for_status()# 오류 발생시 예외발생"
   ]
  },
  {
   "cell_type": "markdown",
   "id": "cb2618bd",
   "metadata": {},
   "source": [
    "# Test"
   ]
  },
  {
   "cell_type": "code",
   "execution_count": 12,
   "id": "18aa145b",
   "metadata": {},
   "outputs": [],
   "source": [
    "#container > div > div.sm_mymileage > dl.mileage_section1 > dd > span"
   ]
  },
  {
   "cell_type": "code",
   "execution_count": 14,
   "id": "26076607",
   "metadata": {},
   "outputs": [
    {
     "data": {
      "text/plain": [
       "'2,000'"
      ]
     },
     "execution_count": 14,
     "metadata": {},
     "output_type": "execute_result"
    }
   ],
   "source": [
    "soup = BeautifulSoup(res.text,\"html.parser\")\n",
    "soup.select_one('#container > div > div.sm_mymileage > dl.mileage_section1 > dd > span').string"
   ]
  },
  {
   "cell_type": "code",
   "execution_count": null,
   "id": "1c59c3d5",
   "metadata": {},
   "outputs": [],
   "source": []
  }
 ],
 "metadata": {
  "kernelspec": {
   "display_name": "Python 3",
   "language": "python",
   "name": "python3"
  },
  "language_info": {
   "codemirror_mode": {
    "name": "ipython",
    "version": 3
   },
   "file_extension": ".py",
   "mimetype": "text/x-python",
   "name": "python",
   "nbconvert_exporter": "python",
   "pygments_lexer": "ipython3",
   "version": "3.8.8"
  }
 },
 "nbformat": 4,
 "nbformat_minor": 5
}
