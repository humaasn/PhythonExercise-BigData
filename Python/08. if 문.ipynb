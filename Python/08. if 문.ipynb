{
 "cells": [
  {
   "cell_type": "code",
   "execution_count": 2,
   "id": "503930bd",
   "metadata": {},
   "outputs": [],
   "source": [
    "from random import randint"
   ]
  },
  {
   "cell_type": "code",
   "execution_count": 3,
   "id": "acd79b7c",
   "metadata": {},
   "outputs": [
    {
     "data": {
      "text/plain": [
       "93"
      ]
     },
     "execution_count": 3,
     "metadata": {},
     "output_type": "execute_result"
    }
   ],
   "source": [
    "randint(1,100)"
   ]
  },
  {
   "cell_type": "code",
   "execution_count": 5,
   "id": "7c2bce4a",
   "metadata": {},
   "outputs": [
    {
     "name": "stdout",
     "output_type": "stream",
     "text": [
      "x is greater than 50\n",
      "----END----\n"
     ]
    }
   ],
   "source": [
    "# if문만 사용\n",
    "x = randint(1,100)\n",
    "if x > 50: \n",
    "    print('x is greater than 50')\n",
    "elif x < 50:\n",
    "    print('x is less than 50')\n",
    "else:\n",
    "    print('x is equal to 50')\n",
    "    \n",
    "print('----END----')"
   ]
  },
  {
   "cell_type": "code",
   "execution_count": 6,
   "id": "0394a140",
   "metadata": {},
   "outputs": [
    {
     "name": "stdout",
     "output_type": "stream",
     "text": [
      "숫자를 입력하세요89\n",
      "점수 : 89 이고 B학점입니다.\n"
     ]
    }
   ],
   "source": [
    "score=int(input('숫자를 입력하세요'))\n",
    "if score >= 90: \n",
    "    print('점수 :',score,'이고 A학점입니다.')\n",
    "elif score >= 80:\n",
    "    print('점수 :',score,'이고 B학점입니다.')\n",
    "elif score >=70:\n",
    "    print('점수 :',score,'이고 C학점입니다.')\n",
    "else:\n",
    "    print('점수 :',score,'이고 F학점입니다.')\n",
    "    "
   ]
  },
  {
   "cell_type": "code",
   "execution_count": 7,
   "id": "e21dd2d6",
   "metadata": {},
   "outputs": [
    {
     "name": "stdout",
     "output_type": "stream",
     "text": [
      "신용카드를 이용한 택시 타기\n",
      "------End------\n"
     ]
    }
   ],
   "source": [
    "# list의 내용을 if문으로 확인하기 \n",
    "pocket = ['paper', 'smartphone']\n",
    "card = 1\n",
    "if 'money' in pocket:\n",
    "    print('현금으로 택시 타기')\n",
    "elif card: \n",
    "    print('신용카드를 이용한 택시 타기')\n",
    "else:\n",
    "    print('튼튼한 다리를 사용!')\n",
    "    \n",
    "print('------End------')"
   ]
  },
  {
   "cell_type": "code",
   "execution_count": 8,
   "id": "bbec00f4",
   "metadata": {},
   "outputs": [
    {
     "name": "stdout",
     "output_type": "stream",
     "text": [
      "택시를 타자!\n"
     ]
    }
   ],
   "source": [
    "money = 2000\n",
    "card = True\n",
    "if money >= 3000 or card: \n",
    "    print('택시를 타자!')\n",
    "else: \n",
    "    print('걸어가자!')"
   ]
  },
  {
   "cell_type": "code",
   "execution_count": null,
   "id": "d65feef3",
   "metadata": {},
   "outputs": [],
   "source": []
  }
 ],
 "metadata": {
  "kernelspec": {
   "display_name": "Python 3 (ipykernel)",
   "language": "python",
   "name": "python3"
  },
  "language_info": {
   "codemirror_mode": {
    "name": "ipython",
    "version": 3
   },
   "file_extension": ".py",
   "mimetype": "text/x-python",
   "name": "python",
   "nbconvert_exporter": "python",
   "pygments_lexer": "ipython3",
   "version": "3.8.2"
  }
 },
 "nbformat": 4,
 "nbformat_minor": 5
}
