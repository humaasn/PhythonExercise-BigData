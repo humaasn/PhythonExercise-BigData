{
 "cells": [
  {
   "cell_type": "markdown",
   "id": "79799db7",
   "metadata": {},
   "source": [
    "# Rotten Tomatoes에서 2019 ~ 2021년 까지의 자료 중 \n",
    "# year, rank Rating, title, review, genre, url,original languge, director 수집 \n",
    "\n",
    " - https://www.rottentomatoes.com/top/bestofrt/?year=2019"
   ]
  },
  {
   "cell_type": "code",
   "execution_count": 1,
   "id": "bac20aee",
   "metadata": {},
   "outputs": [],
   "source": [
    "from bs4 import BeautifulSoup\n",
    "from urllib.request import urlopen\n",
    "import pandas as pd\n",
    "import numpy as np # Genre가 Error로 발생한 부분을 NaN으로 처리\n",
    "import time"
   ]
  },
  {
   "cell_type": "code",
   "execution_count": null,
   "id": "7d8453a7",
   "metadata": {},
   "outputs": [],
   "source": [
    "url = \"https://www.rottentomatoes.com/top/bestofrt/?year=2021\"\n",
    "page = urlopen(url)\n",
    "soup = BeautifulSoup(page, 'html.parser')\n"
   ]
  }
 ],
 "metadata": {
  "kernelspec": {
   "display_name": "Python 3",
   "language": "python",
   "name": "python3"
  },
  "language_info": {
   "codemirror_mode": {
    "name": "ipython",
    "version": 3
   },
   "file_extension": ".py",
   "mimetype": "text/x-python",
   "name": "python",
   "nbconvert_exporter": "python",
   "pygments_lexer": "ipython3",
   "version": "3.8.8"
  }
 },
 "nbformat": 4,
 "nbformat_minor": 5
}
